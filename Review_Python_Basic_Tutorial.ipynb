{
  "nbformat": 4,
  "nbformat_minor": 0,
  "metadata": {
    "colab": {
      "name": "Review_Python_Basic_Tutorial.ipynb",
      "provenance": [],
      "collapsed_sections": [
        "SwNyaT41kkWl",
        "ujk5DO-zK0Lx",
        "dV39ZD2gK0L8",
        "sFwU6kk5K0MI",
        "vc8IfckxK0MJ",
        "SGbRueq9K0MY",
        "6mZzHndgK0MZ",
        "3UY6LBLCK0Ma",
        "SUxJjixrK0Mc",
        "Fgzyck-zK0Me",
        "UcHIGkmVK0Mf",
        "wPDBHIO9K0Mg",
        "vF7Xg8xYK0Mi",
        "V-bMtnieK0Mj",
        "bR9JXYO5K0Mo",
        "qpsYOdC8K0Ms",
        "h8iUmsicK0Mx",
        "wTHEnhO3K0M0",
        "328oUEbLK0M5",
        "YJlB4p4JK0Mv",
        "q4p02h5cWq3R"
      ],
      "toc_visible": true,
      "include_colab_link": true
    },
    "kernelspec": {
      "name": "python3",
      "display_name": "Python 3.6.3 64-bit"
    },
    "language_info": {
      "name": "python",
      "version": "3.6.3",
      "mimetype": "text/x-python",
      "codemirror_mode": {
        "name": "ipython",
        "version": 3
      },
      "pygments_lexer": "ipython3",
      "nbconvert_exporter": "python",
      "file_extension": ".py"
    },
    "interpreter": {
      "hash": "58bc13ec4dd135858b8220102d0ad3358f57eb64d131366ec25c4d4365eacf63"
    }
  },
  "cells": [
    {
      "cell_type": "markdown",
      "metadata": {
        "id": "view-in-github",
        "colab_type": "text"
      },
      "source": [
        "<a href=\"https://colab.research.google.com/github/armandossrecife/treinamentos/blob/main/Review_Python_Basic_Tutorial.ipynb\" target=\"_parent\"><img src=\"https://colab.research.google.com/assets/colab-badge.svg\" alt=\"Open In Colab\"/></a>"
      ]
    },
    {
      "cell_type": "markdown",
      "metadata": {
        "id": "SwNyaT41kkWl"
      },
      "source": [
        "# A linguagem de programação Python"
      ]
    },
    {
      "cell_type": "markdown",
      "metadata": {
        "id": "zitwKS4wk3Aw"
      },
      "source": [
        "**Características**\n",
        "\n",
        "*   Interpretada\n",
        "*   Código legível\n",
        "*   Mutiparadígma (Programação estrutura, Programação Imperativa, Programação Orientada a Objetos, Programação Funcional)\n",
        "*   Tipos dinâmicos\n",
        "*   Blocos baseados em indentação"
      ]
    },
    {
      "cell_type": "markdown",
      "metadata": {
        "id": "eV_A1H-ll0eP"
      },
      "source": [
        "Criada por [Guido Van Rossum](https://en.wikipedia.org/wiki/Guido_van_Rossum) nos anos 80 e lançada no anos 90."
      ]
    },
    {
      "cell_type": "markdown",
      "metadata": {
        "id": "PBRCy01Ll8iq"
      },
      "source": [
        "O **Python 3** foi lançado em 2008. O Python 2.7.18 foi descontinuado em 2020. Com isso, é bom usar os padrões adotados pelo Python 3, pois não existe retrocompatibilidade entre o Python 3 e o Python 2. "
      ]
    },
    {
      "cell_type": "markdown",
      "metadata": {
        "id": "P6AVMiP-ngIF"
      },
      "source": [
        "A linguagem python é uma das linguagens mais populares (quantidade de buscas na Internet em 2020 - 1o lugar: C (11,83%) , 2o. lugar Python (11,67%), 3o. lugar Java (11,12%) ) do mundo segundo o índice Tiobe (https://www.tiobe.com/tiobe-index/)\n",
        "\n",
        "Segundo o survey 2021 stackoverflow (https://insights.stackoverflow.com/survey/2021) python ocupa o 3o. lugar (48%), JavaScript 1o lugar (64%) e html/css 2o. lugar (56%)"
      ]
    },
    {
      "cell_type": "markdown",
      "metadata": {
        "id": "sxGT1iuZdc9t"
      },
      "source": [
        "Bibliotecas, Frameworks e plataformas mais famosas baseadas em python: \n",
        "\n",
        "Desenvolvimento web: [Django](https://www.djangoproject.com/), [Flask](https://flask.palletsprojects.com/en/2.0.x/)\n",
        "\n",
        "Data Science: [Pandas](https://pandas.pydata.org/), [Matplotlib](https://matplotlib.org/)\n",
        "\n",
        "Machine Learning: [Scikit learn](https://scikit-learn.org/stable/), [PyTorch](https://pytorch.org/)\n",
        "\n",
        "Deep Learning e Redes Neurais: [TensorFlow](https://www.tensorflow.org/federated), [Keras](https://keras.io/)"
      ]
    },
    {
      "cell_type": "markdown",
      "metadata": {
        "id": "ejpv03SbqKB4"
      },
      "source": [
        "Site oficial: https://www.python.org/"
      ]
    },
    {
      "cell_type": "markdown",
      "metadata": {
        "id": "bMVwjDMtE3pv"
      },
      "source": [
        "Documentação Python: https://docs.python.org/3/"
      ]
    },
    {
      "cell_type": "markdown",
      "metadata": {
        "id": "CshlEZtoqUJv"
      },
      "source": [
        "Instale o python no seu sistema operacional https://www.python.org/downloads/"
      ]
    },
    {
      "cell_type": "markdown",
      "metadata": {
        "id": "E81UOWWEqflT"
      },
      "source": [
        "Versão estável: 3.9.x (setembro/2021)"
      ]
    },
    {
      "cell_type": "markdown",
      "metadata": {
        "id": "69AoWSqPrBHv"
      },
      "source": [
        "Chamando o interpretador python3 no mac: \n",
        "https://asciinema.org/a/439546\n",
        "\n",
        "Executando um script python via CLI (Command-line Interface): https://asciinema.org/a/439547"
      ]
    },
    {
      "cell_type": "markdown",
      "metadata": {
        "id": "HQQzWJ_8ukj5"
      },
      "source": [
        "Para o desenvolvimento de aplicações mais complexas é aconselhável usar uma IDE (Integrated Development Environment) para facilitar a organização, testes, depuração e empacotamento da aplicação. As mais usadas pela comunidade python: Pycharm (https://www.jetbrains.com/pt-br/pycharm/) e Visual Studio Code (https://code.visualstudio.com/). No caso o VSCode é aconselhável instalar uma [extensão python](https://code.visualstudio.com/docs/languages/python) para ajudar com features como IntelliSense, debugging, code navigation, code formatting e etc."
      ]
    },
    {
      "cell_type": "markdown",
      "metadata": {
        "id": "KPD9VRY2wLG3"
      },
      "source": [
        "Também é possível usar notebooks on-line para a execução em forma de interpretação de sequências de scripts python como por exemplo o google colab (https://colab.research.google.com/). Ele é muito usado para quem faz análise de dados (Data Science). Outro exemplo de notebook é o Kaggle (https://www.kaggle.com/) - muito usado pela comunidade de machine learning e data science. "
      ]
    },
    {
      "cell_type": "markdown",
      "metadata": {
        "id": "ujk5DO-zK0Lx"
      },
      "source": [
        "# 1) Saída padrao"
      ]
    },
    {
      "cell_type": "code",
      "metadata": {
        "colab": {
          "base_uri": "https://localhost:8080/"
        },
        "id": "Yk0VBGqIbJ9-",
        "outputId": "9c669726-67e0-4f14-d669-db6cfa23c9a9"
      },
      "source": [
        "#Output\n",
        "print('Saída padrão')\n",
        "print('Armando')"
      ],
      "execution_count": null,
      "outputs": [
        {
          "output_type": "stream",
          "name": "stdout",
          "text": [
            "Saída padrão\n",
            "Armando\n"
          ]
        }
      ]
    },
    {
      "cell_type": "code",
      "metadata": {
        "colab": {
          "base_uri": "https://localhost:8080/",
          "height": 70
        },
        "id": "cFAX72pbbT_Y",
        "outputId": "598f8c43-658a-4405-d41a-97f5ded24404"
      },
      "source": [
        "''' \n",
        "Algumas convenções importantes:\n",
        "\n",
        "Class names start with an uppercase letter. All other identifiers start with a lowercase letter.\n",
        "\n",
        " Starting an identifier with a single leading underscore indicates that the identifier is private.\n",
        "\n",
        " Starting an identifier with two leading underscores indicates a strongly private identifier.\n",
        "\n",
        " If the identifier also ends with two trailing underscores, the identifier is a language-defined special name.\n",
        " '''"
      ],
      "execution_count": null,
      "outputs": [
        {
          "output_type": "execute_result",
          "data": {
            "application/vnd.google.colaboratory.intrinsic+json": {
              "type": "string"
            },
            "text/plain": [
              "' \\nAlgumas convenções importantes:\\n\\nClass names start with an uppercase letter. All other identifiers start with a lowercase letter.\\n\\n Starting an identifier with a single leading underscore indicates that the identifier is private.\\n\\n Starting an identifier with two leading underscores indicates a strongly private identifier.\\n\\n If the identifier also ends with two trailing underscores, the identifier is a language-defined special name.\\n '"
            ]
          },
          "metadata": {},
          "execution_count": 2
        }
      ]
    },
    {
      "cell_type": "markdown",
      "metadata": {
        "id": "dV39ZD2gK0L8"
      },
      "source": [
        "# 2) Variaveis e tipos de dados"
      ]
    },
    {
      "cell_type": "markdown",
      "metadata": {
        "id": "nfdSX4S9yggN"
      },
      "source": [
        "|Type|Mutability|Description|Syntax examples|\n",
        "|--- |--- |--- |--- |\n",
        "|bool|immutable|Boolean value|TrueFalse|\n",
        "|bytearray|mutable|Sequence of bytes|bytearray(b'Some ASCII')bytearray(b\"Some ASCII\")bytearray([119, 105, 107, 105])|\n",
        "|bytes|immutable|Sequence of bytes|b'Some ASCII'b\"Some ASCII\"bytes([119, 105, 107, 105])|\n",
        "|complex|immutable|Complex number with real and imaginary parts|3+2.7j3 + 2.7j|\n",
        "|dict|mutable|Associative array (or dictionary) of key and value pairs; can contain mixed types (keys and values), keys must be a hashable type|{'key1': 1.0, 3: False}{}|\n",
        "|ellipsisa|immutable|An ellipsis placeholder to be used as an index in NumPy arrays|...Ellipsis|\n",
        "|float|immutable|Double-precision floating-point number. The precision is machine-dependent but in practice is generally implemented as a 64-bit IEEE 754 number with 53 bits of precision.[99]|1.33333|\n",
        "|frozenset|immutable|Unordered set, contains no duplicates; can contain mixed types, if hashable|frozenset([4.0, 'string', True])|\n",
        "|int|immutable|Integer of unlimited magnitude[100]|42|\n",
        "|list|mutable|List, can contain mixed types|[4.0, 'string', True][]|\n",
        "|NoneTypea|immutable|An object representing the absence of a value, often called null in other languages|None|\n",
        "|NotImplementedTypea|immutable|A placeholder that can be returned from overloaded operators to indicate unsupported operand types.|NotImplemented|\n",
        "|range|immutable|A Sequence of numbers commonly used for looping specific number of times in for loops[101]|range(-1, 10)range(10, -5, -2)|\n",
        "|set|mutable|Unordered set, contains no duplicates; can contain mixed types, if hashable|{4.0, 'string', True}set()|\n",
        "|str|immutable|A character string: sequence of Unicode codepoints|\n",
        "|tuple|immutable|Can contain mixed types|(4.0, 'string', True)('single element',)()|\n"
      ]
    },
    {
      "cell_type": "code",
      "metadata": {
        "colab": {
          "base_uri": "https://localhost:8080/"
        },
        "id": "L8ux1A4Tfd_Q",
        "outputId": "46dd2f06-429c-441f-ec47-a9b676dead9a"
      },
      "source": [
        "nome = 'Armando Soares Sousa'\n",
        "data_nascimento = '19/02/1979'\n",
        "altura = 1.68\n",
        "peso =  70\n",
        "vacinado_covid_1a_dose = True\n",
        "vacinado_covid_2a_dose = True\n",
        "\n",
        "print(f'Nome: {nome}, data de nascimento: {data_nascimento}, altura: {altura}m , peso: {peso}kg')"
      ],
      "execution_count": null,
      "outputs": [
        {
          "output_type": "stream",
          "name": "stdout",
          "text": [
            "Nome: Armando Soares Sousa, data de nascimento: 19/02/1979, altura: 1.68m , peso: 70kg\n"
          ]
        }
      ]
    },
    {
      "cell_type": "code",
      "metadata": {
        "colab": {
          "base_uri": "https://localhost:8080/"
        },
        "id": "Wj34LUwru8El",
        "outputId": "faa9bff6-8d22-40b8-fe69-5e0da5d7a8af"
      },
      "source": [
        "print(f'nome: {nome}')\n",
        "teste = f'nome do cliente: {nome}'\n",
        "print(teste)"
      ],
      "execution_count": null,
      "outputs": [
        {
          "output_type": "stream",
          "name": "stdout",
          "text": [
            "nome: Armando Soares Sousa\n",
            "nome do cliente: Armando Soares Sousa\n"
          ]
        }
      ]
    },
    {
      "cell_type": "code",
      "metadata": {
        "colab": {
          "base_uri": "https://localhost:8080/"
        },
        "id": "ML9DdGR2vKVP",
        "outputId": "70de85fb-5536-41b0-c2eb-28e25b352d2a"
      },
      "source": [
        "print(teste)"
      ],
      "execution_count": null,
      "outputs": [
        {
          "output_type": "stream",
          "name": "stdout",
          "text": [
            "nome do cliente: Armando Soares Sousa\n"
          ]
        }
      ]
    },
    {
      "cell_type": "code",
      "metadata": {
        "colab": {
          "base_uri": "https://localhost:8080/"
        },
        "id": "B1ZKaEWqelOo",
        "outputId": "427bd3b2-7afc-4135-82af-c4dcdf0eb59d"
      },
      "source": [
        "# comando if\n",
        "\n",
        "idade = 18\n",
        "\n",
        "if idade >= 18 :\n",
        "  print('Pode tirar a habilitação para dirigir')\n",
        "else:\n",
        "  print('Ainda não pode dirigir')"
      ],
      "execution_count": null,
      "outputs": [
        {
          "output_type": "stream",
          "name": "stdout",
          "text": [
            "Pode tirar a habilitação para dirigir\n"
          ]
        }
      ]
    },
    {
      "cell_type": "code",
      "metadata": {
        "colab": {
          "base_uri": "https://localhost:8080/"
        },
        "id": "npwmTGuEgdnJ",
        "outputId": "43b18c2f-e4cf-45b3-bfcf-f0153eff3749"
      },
      "source": [
        "# Multiplas associações\n",
        "\n",
        "a = b = c = 10\n",
        "\n",
        "nome, data_nascimento, altura, peso = 'Maria Silva', '10/10/2000', 1.70, 70 \n",
        "\n",
        "print(f'a: {a}, b: {b}, c: {c}')\n",
        "\n",
        "print(f'Nome: {nome}, data de nascimento: {data_nascimento}, altura: {altura}m , peso: {peso}kg')"
      ],
      "execution_count": null,
      "outputs": [
        {
          "output_type": "stream",
          "name": "stdout",
          "text": [
            "a: 10, b: 10, c: 10\n",
            "Nome: Maria Silva, data de nascimento: 10/10/2000, altura: 1.7m , peso: 70kg\n"
          ]
        }
      ]
    },
    {
      "cell_type": "code",
      "metadata": {
        "id": "Mv02BOCYvhBe"
      },
      "source": [
        "x, y = 10, 20"
      ],
      "execution_count": null,
      "outputs": []
    },
    {
      "cell_type": "code",
      "metadata": {
        "colab": {
          "base_uri": "https://localhost:8080/"
        },
        "id": "XeV3xh_dhPCR",
        "outputId": "e18a6989-cce8-422b-c303-e9675ff51d87"
      },
      "source": [
        "# Tipos numéricos\n",
        "\n",
        "# int\t  long (python2)  float\t    complex\n",
        "# 10\t  51924361L\t      0.0\t      3.14j\n",
        "# 100\t  -0x19323L\t      15.20\t    45.j\n",
        "# -786\t0122L\t          -21.9\t    9.322e-36j\n",
        "\n",
        "meu_inteiro_maior = (2 ** 31) - 1\n",
        "meu_inteiro_menor = -1 * meu_inteiro_maior\n",
        "print(f'inteiro maior: {meu_inteiro_maior}, type: { type(meu_inteiro_maior) }')\n",
        "print(f'inteiro menor: {meu_inteiro_menor}, type: { type(meu_inteiro_menor) }')"
      ],
      "execution_count": null,
      "outputs": [
        {
          "output_type": "stream",
          "name": "stdout",
          "text": [
            "inteiro maior: 2147483647, type: <class 'int'>\n",
            "inteiro menor: -2147483647, type: <class 'int'>\n"
          ]
        }
      ]
    },
    {
      "cell_type": "code",
      "metadata": {
        "colab": {
          "base_uri": "https://localhost:8080/"
        },
        "id": "PREW8dSik1Kn",
        "outputId": "830f5f7d-bc62-4122-8ec2-4678d52ad11c"
      },
      "source": [
        "# para armazenar inteiros longos\n",
        "\n",
        "meu_inteiro_longo = 2**100\n",
        "print(f'inteiro longo: {meu_inteiro_longo}, { type(meu_inteiro_longo) }')"
      ],
      "execution_count": null,
      "outputs": [
        {
          "output_type": "stream",
          "name": "stdout",
          "text": [
            "inteiro longo: 1267650600228229401496703205376, <class 'int'>\n"
          ]
        }
      ]
    },
    {
      "cell_type": "code",
      "metadata": {
        "colab": {
          "base_uri": "https://localhost:8080/"
        },
        "id": "_Q0HYE-jwMv_",
        "outputId": "8dc4de56-3a29-4def-cfef-fd680f91de35"
      },
      "source": [
        "type(meu_inteiro_longo)"
      ],
      "execution_count": null,
      "outputs": [
        {
          "output_type": "execute_result",
          "data": {
            "text/plain": [
              "int"
            ]
          },
          "metadata": {},
          "execution_count": 11
        }
      ]
    },
    {
      "cell_type": "code",
      "metadata": {
        "colab": {
          "base_uri": "https://localhost:8080/"
        },
        "id": "AX-8YW0Fllyk",
        "outputId": "a7c67481-e58f-4296-f5d9-694b70fd716d"
      },
      "source": [
        "# para armazenar floats\n",
        "meu_float = 1.15\n",
        "print(f'Float : {meu_float}, { type(meu_float) }')"
      ],
      "execution_count": null,
      "outputs": [
        {
          "output_type": "stream",
          "name": "stdout",
          "text": [
            "Float : 1.15, <class 'float'>\n"
          ]
        }
      ]
    },
    {
      "cell_type": "code",
      "metadata": {
        "colab": {
          "base_uri": "https://localhost:8080/"
        },
        "id": "fd0JqhZMnDj2",
        "outputId": "69b58a95-b494-4c84-d9f7-beeb19af06c0"
      },
      "source": [
        "# para armazenar números complexos\n",
        "\n",
        "meu_numero_complexo = 3.14j\n",
        "print(f'Numero complexo: {meu_numero_complexo}, type: { type(meu_numero_complexo) }')"
      ],
      "execution_count": null,
      "outputs": [
        {
          "output_type": "stream",
          "name": "stdout",
          "text": [
            "Numero complexo: 3.14j, type: <class 'complex'>\n"
          ]
        }
      ]
    },
    {
      "cell_type": "code",
      "metadata": {
        "colab": {
          "base_uri": "https://localhost:8080/"
        },
        "id": "JVdwjHs-nLxx",
        "outputId": "2dc08225-374e-4933-e9a0-ec0b7b8f58bc"
      },
      "source": [
        "# converte inteiro para float\n",
        "\n",
        "float(meu_inteiro_maior)"
      ],
      "execution_count": null,
      "outputs": [
        {
          "output_type": "execute_result",
          "data": {
            "text/plain": [
              "2147483647.0"
            ]
          },
          "metadata": {},
          "execution_count": 14
        }
      ]
    },
    {
      "cell_type": "code",
      "metadata": {
        "colab": {
          "base_uri": "https://localhost:8080/"
        },
        "id": "X_6Vu3NjoMsP",
        "outputId": "a0aa634a-b24e-41ee-8937-444a32aa58fa"
      },
      "source": [
        "# converte longo para float\n",
        "\n",
        "float(meu_inteiro_longo)"
      ],
      "execution_count": null,
      "outputs": [
        {
          "output_type": "execute_result",
          "data": {
            "text/plain": [
              "1.2676506002282294e+30"
            ]
          },
          "metadata": {},
          "execution_count": 15
        }
      ]
    },
    {
      "cell_type": "markdown",
      "metadata": {
        "id": "sFwU6kk5K0MI"
      },
      "source": [
        "# 3) String"
      ]
    },
    {
      "cell_type": "code",
      "metadata": {
        "colab": {
          "base_uri": "https://localhost:8080/"
        },
        "id": "nR6UMdw0oW4S",
        "outputId": "7b2cb409-2781-4d1d-bd7a-f6087b8d265c"
      },
      "source": [
        "# Trabalhando com strings\n",
        "\n",
        "str_texto = 'Armando Soares Sousa'\n",
        "\n",
        "print(str_texto)          # Prints complete string\n",
        "print(str_texto[0])       # Prints first character of the string\n",
        "print(str_texto[2:5])     # Prints characters starting from 3rd to 5th\n",
        "print(str_texto[2:])      # Prints string starting from 3rd character\n",
        "print(str_texto * 2)      # Prints string two times\n",
        "print(str_texto * 3)      # Prints string tree times\n",
        "print(str_texto + \"TEST\") # Prints concatenated string"
      ],
      "execution_count": null,
      "outputs": [
        {
          "output_type": "stream",
          "name": "stdout",
          "text": [
            "Armando Soares Sousa\n",
            "A\n",
            "man\n",
            "mando Soares Sousa\n",
            "Armando Soares SousaArmando Soares Sousa\n",
            "Armando Soares SousaArmando Soares SousaArmando Soares Sousa\n",
            "Armando Soares SousaTEST\n"
          ]
        }
      ]
    },
    {
      "cell_type": "code",
      "metadata": {
        "id": "mKcnULSLwmP8"
      },
      "source": [
        "str_teste = 'Bem vindo'"
      ],
      "execution_count": null,
      "outputs": []
    },
    {
      "cell_type": "code",
      "metadata": {
        "colab": {
          "base_uri": "https://localhost:8080/"
        },
        "id": "gydyWpRywrEs",
        "outputId": "4800cad8-5d26-4312-bce2-71e1483063b9"
      },
      "source": [
        "len(str_teste)"
      ],
      "execution_count": null,
      "outputs": [
        {
          "output_type": "execute_result",
          "data": {
            "text/plain": [
              "9"
            ]
          },
          "metadata": {},
          "execution_count": 18
        }
      ]
    },
    {
      "cell_type": "code",
      "metadata": {
        "colab": {
          "base_uri": "https://localhost:8080/"
        },
        "id": "UFVFwSdQwwW8",
        "outputId": "82a0362b-eafc-447b-cb2b-05ff116f9ee3"
      },
      "source": [
        "print(f'Imprime os 3 primeiros caracters da string \"{str_teste}\": {str_teste[:3]}')\n",
        "print(f'Imprime do 5o caractere em diante: {str_teste[4:]}')"
      ],
      "execution_count": null,
      "outputs": [
        {
          "output_type": "stream",
          "name": "stdout",
          "text": [
            "Imprime os 3 primeiros caracters da string \"Bem vindo\": Bem\n",
            "Imprime do 5o caractere em diante: vindo\n"
          ]
        }
      ]
    },
    {
      "cell_type": "code",
      "metadata": {
        "colab": {
          "base_uri": "https://localhost:8080/"
        },
        "id": "eGOfPso6OxcG",
        "outputId": "d0cae1d7-7091-4619-a6cb-a3376c013bb5"
      },
      "source": [
        "meu_nome = str_texto[:7]\n",
        "print(f'Dada a string \"{str_texto}\" imprime os 7 primeiros caracters: {meu_nome}')  "
      ],
      "execution_count": null,
      "outputs": [
        {
          "output_type": "stream",
          "name": "stdout",
          "text": [
            "Dada a string \"Armando Soares Sousa\" imprime os 7 primeiros caracters: Armando\n"
          ]
        }
      ]
    },
    {
      "cell_type": "markdown",
      "metadata": {
        "id": "hWE0X9PCNkf9"
      },
      "source": [
        "## String methods"
      ]
    },
    {
      "cell_type": "markdown",
      "metadata": {
        "id": "7c-x0lOfRZpm"
      },
      "source": [
        "https://docs.python.org/3/library/stdtypes.html#text-sequence-type-str"
      ]
    },
    {
      "cell_type": "code",
      "metadata": {
        "colab": {
          "base_uri": "https://localhost:8080/"
        },
        "id": "yVp3U6WzNex6",
        "outputId": "d4ca310c-7f84-477e-f790-1a65fc27085e"
      },
      "source": [
        "print(str_texto.upper() )\n",
        "print(str_texto.lower() )\n",
        "print(str_texto.capitalize() )\n",
        "print(str_texto.find(\"Sousa\") )\n",
        "print(str_texto.index('Sousa'))\n",
        "print(str_texto.isalpha() )\n",
        "print(meu_nome.isalpha() )\n",
        "print(str_texto.endswith(\"Sousa\"))"
      ],
      "execution_count": null,
      "outputs": [
        {
          "output_type": "stream",
          "name": "stdout",
          "text": [
            "ARMANDO SOARES SOUSA\n",
            "armando soares sousa\n",
            "Armando soares sousa\n",
            "15\n",
            "15\n",
            "False\n",
            "True\n",
            "True\n"
          ]
        }
      ]
    },
    {
      "cell_type": "code",
      "metadata": {
        "id": "rTbTce-HxxLC"
      },
      "source": [
        "str_python = 'Bem vindo ao python'"
      ],
      "execution_count": null,
      "outputs": []
    },
    {
      "cell_type": "code",
      "metadata": {
        "colab": {
          "base_uri": "https://localhost:8080/"
        },
        "id": "_RTmL1h5x4F_",
        "outputId": "74976f60-0877-4a37-84fc-e65f63699fb4"
      },
      "source": [
        "str_python.find('python')"
      ],
      "execution_count": null,
      "outputs": [
        {
          "output_type": "execute_result",
          "data": {
            "text/plain": [
              "13"
            ]
          },
          "metadata": {},
          "execution_count": 23
        }
      ]
    },
    {
      "cell_type": "code",
      "metadata": {
        "colab": {
          "base_uri": "https://localhost:8080/"
        },
        "id": "ZCNMXFFsyC7g",
        "outputId": "a91272c9-19f0-4da8-c32c-5b201fc30cde"
      },
      "source": [
        "str_python.index('python')"
      ],
      "execution_count": null,
      "outputs": [
        {
          "output_type": "execute_result",
          "data": {
            "text/plain": [
              "13"
            ]
          },
          "metadata": {},
          "execution_count": 24
        }
      ]
    },
    {
      "cell_type": "markdown",
      "metadata": {
        "id": "eX78Py2HPvXy"
      },
      "source": [
        "## Módulo string"
      ]
    },
    {
      "cell_type": "markdown",
      "metadata": {
        "id": "q95DoZ9qLshi"
      },
      "source": [
        "Lista de caracteres ascii: https://en.wikipedia.org/wiki/ASCII#ASCII_control_characters"
      ]
    },
    {
      "cell_type": "code",
      "metadata": {
        "id": "bKuxLlPoHNMm"
      },
      "source": [
        "# O Módulo string contem métodos e constantes especiais para trabalhar com strings no python\n",
        "import string"
      ],
      "execution_count": null,
      "outputs": []
    },
    {
      "cell_type": "code",
      "metadata": {
        "colab": {
          "base_uri": "https://localhost:8080/"
        },
        "id": "8d8DNJLDHpt8",
        "outputId": "3ff305f2-3113-48cd-ad53-d3860896aaf6"
      },
      "source": [
        "ascii_letters = string.ascii_letters\n",
        "print(f'ascii_letters: {ascii_letters}')\n",
        "\n",
        "ascii_lowercase = string.ascii_lowercase\n",
        "print(f'ascii_lowercase: {ascii_lowercase}')\n",
        "\n",
        "ascii_uppercase = string.ascii_uppercase\n",
        "print(f'ascii_uppercase: {ascii_uppercase}')\n",
        "\n",
        "digits = string.digits\n",
        "print(f'digits: {digits}')\n",
        "\n",
        "ascii_punctuation = string.punctuation\n",
        "print(f'ascii_punctuation: {ascii_punctuation}')\n",
        "\n"
      ],
      "execution_count": null,
      "outputs": [
        {
          "output_type": "stream",
          "name": "stdout",
          "text": [
            "ascii_letters: abcdefghijklmnopqrstuvwxyzABCDEFGHIJKLMNOPQRSTUVWXYZ\n",
            "ascii_lowercase: abcdefghijklmnopqrstuvwxyz\n",
            "ascii_uppercase: ABCDEFGHIJKLMNOPQRSTUVWXYZ\n",
            "digits: 0123456789\n",
            "ascii_punctuation: !\"#$%&'()*+,-./:;<=>?@[\\]^_`{|}~\n"
          ]
        }
      ]
    },
    {
      "cell_type": "code",
      "metadata": {
        "colab": {
          "base_uri": "https://localhost:8080/"
        },
        "id": "S7dJFdPfy_Xp",
        "outputId": "becf7cd7-144b-44e7-9e66-f45e605aeae7"
      },
      "source": [
        "print(f'Pontuacao ascii: {ascii_punctuation}')"
      ],
      "execution_count": null,
      "outputs": [
        {
          "output_type": "stream",
          "name": "stdout",
          "text": [
            "Pontuacao ascii: !\"#$%&'()*+,-./:;<=>?@[\\]^_`{|}~\n"
          ]
        }
      ]
    },
    {
      "cell_type": "markdown",
      "metadata": {
        "id": "oEFunqmxLmEt"
      },
      "source": [
        "Lista de caracters unicode: https://en.wikipedia.org/wiki/List_of_Unicode_characters"
      ]
    },
    {
      "cell_type": "code",
      "metadata": {
        "colab": {
          "base_uri": "https://localhost:8080/"
        },
        "id": "QGOxPrnEK6W8",
        "outputId": "82af327f-400a-4f78-abc7-3dad1b2a3fad"
      },
      "source": [
        "for i in range(255):\n",
        "  print(f'{i}: {chr(i)}')"
      ],
      "execution_count": null,
      "outputs": [
        {
          "output_type": "stream",
          "name": "stdout",
          "text": [
            "0: \u0000\n",
            "1: \u0001\n",
            "2: \u0002\n",
            "3: \u0003\n",
            "4: \u0004\n",
            "5: \u0005\n",
            "6: \u0006\n",
            "7: \u0007\n",
            "8: \b\n",
            "9: \t\n",
            "10: \n",
            "\n",
            "11: \u000b\n",
            "12: \f\n",
            "13: \r\n",
            "14: \u000e\n",
            "15: \u000f\n",
            "16: \u0010\n",
            "17: \u0011\n",
            "18: \u0012\n",
            "19: \u0013\n",
            "20: \u0014\n",
            "21: \u0015\n",
            "22: \u0016\n",
            "23: \u0017\n",
            "24: \u0018\n",
            "25: \u0019\n",
            "26: \u001a\n",
            "27: \u001b\n",
            "28: \u001c\n",
            "29: \u001d\n",
            "30: \u001e\n",
            "31: \u001f\n",
            "32:  \n",
            "33: !\n",
            "34: \"\n",
            "35: #\n",
            "36: $\n",
            "37: %\n",
            "38: &\n",
            "39: '\n",
            "40: (\n",
            "41: )\n",
            "42: *\n",
            "43: +\n",
            "44: ,\n",
            "45: -\n",
            "46: .\n",
            "47: /\n",
            "48: 0\n",
            "49: 1\n",
            "50: 2\n",
            "51: 3\n",
            "52: 4\n",
            "53: 5\n",
            "54: 6\n",
            "55: 7\n",
            "56: 8\n",
            "57: 9\n",
            "58: :\n",
            "59: ;\n",
            "60: <\n",
            "61: =\n",
            "62: >\n",
            "63: ?\n",
            "64: @\n",
            "65: A\n",
            "66: B\n",
            "67: C\n",
            "68: D\n",
            "69: E\n",
            "70: F\n",
            "71: G\n",
            "72: H\n",
            "73: I\n",
            "74: J\n",
            "75: K\n",
            "76: L\n",
            "77: M\n",
            "78: N\n",
            "79: O\n",
            "80: P\n",
            "81: Q\n",
            "82: R\n",
            "83: S\n",
            "84: T\n",
            "85: U\n",
            "86: V\n",
            "87: W\n",
            "88: X\n",
            "89: Y\n",
            "90: Z\n",
            "91: [\n",
            "92: \\\n",
            "93: ]\n",
            "94: ^\n",
            "95: _\n",
            "96: `\n",
            "97: a\n",
            "98: b\n",
            "99: c\n",
            "100: d\n",
            "101: e\n",
            "102: f\n",
            "103: g\n",
            "104: h\n",
            "105: i\n",
            "106: j\n",
            "107: k\n",
            "108: l\n",
            "109: m\n",
            "110: n\n",
            "111: o\n",
            "112: p\n",
            "113: q\n",
            "114: r\n",
            "115: s\n",
            "116: t\n",
            "117: u\n",
            "118: v\n",
            "119: w\n",
            "120: x\n",
            "121: y\n",
            "122: z\n",
            "123: {\n",
            "124: |\n",
            "125: }\n",
            "126: ~\n",
            "127: \n",
            "128: \n",
            "129: \n",
            "130: \n",
            "131: \n",
            "132: \n",
            "133: \n",
            "134: \n",
            "135: \n",
            "136: \n",
            "137: \n",
            "138: \n",
            "139: \n",
            "140: \n",
            "141: \n",
            "142: \n",
            "143: \n",
            "144: \n",
            "145: \n",
            "146: \n",
            "147: \n",
            "148: \n",
            "149: \n",
            "150: \n",
            "151: \n",
            "152: \n",
            "153: \n",
            "154: \n",
            "155: \n",
            "156: \n",
            "157: \n",
            "158: \n",
            "159: \n",
            "160:  \n",
            "161: ¡\n",
            "162: ¢\n",
            "163: £\n",
            "164: ¤\n",
            "165: ¥\n",
            "166: ¦\n",
            "167: §\n",
            "168: ¨\n",
            "169: ©\n",
            "170: ª\n",
            "171: «\n",
            "172: ¬\n",
            "173: ­\n",
            "174: ®\n",
            "175: ¯\n",
            "176: °\n",
            "177: ±\n",
            "178: ²\n",
            "179: ³\n",
            "180: ´\n",
            "181: µ\n",
            "182: ¶\n",
            "183: ·\n",
            "184: ¸\n",
            "185: ¹\n",
            "186: º\n",
            "187: »\n",
            "188: ¼\n",
            "189: ½\n",
            "190: ¾\n",
            "191: ¿\n",
            "192: À\n",
            "193: Á\n",
            "194: Â\n",
            "195: Ã\n",
            "196: Ä\n",
            "197: Å\n",
            "198: Æ\n",
            "199: Ç\n",
            "200: È\n",
            "201: É\n",
            "202: Ê\n",
            "203: Ë\n",
            "204: Ì\n",
            "205: Í\n",
            "206: Î\n",
            "207: Ï\n",
            "208: Ð\n",
            "209: Ñ\n",
            "210: Ò\n",
            "211: Ó\n",
            "212: Ô\n",
            "213: Õ\n",
            "214: Ö\n",
            "215: ×\n",
            "216: Ø\n",
            "217: Ù\n",
            "218: Ú\n",
            "219: Û\n",
            "220: Ü\n",
            "221: Ý\n",
            "222: Þ\n",
            "223: ß\n",
            "224: à\n",
            "225: á\n",
            "226: â\n",
            "227: ã\n",
            "228: ä\n",
            "229: å\n",
            "230: æ\n",
            "231: ç\n",
            "232: è\n",
            "233: é\n",
            "234: ê\n",
            "235: ë\n",
            "236: ì\n",
            "237: í\n",
            "238: î\n",
            "239: ï\n",
            "240: ð\n",
            "241: ñ\n",
            "242: ò\n",
            "243: ó\n",
            "244: ô\n",
            "245: õ\n",
            "246: ö\n",
            "247: ÷\n",
            "248: ø\n",
            "249: ù\n",
            "250: ú\n",
            "251: û\n",
            "252: ü\n",
            "253: ý\n",
            "254: þ\n"
          ]
        }
      ]
    },
    {
      "cell_type": "markdown",
      "metadata": {
        "id": "vc8IfckxK0MJ"
      },
      "source": [
        "# 4) Listas"
      ]
    },
    {
      "cell_type": "markdown",
      "metadata": {
        "id": "vNKEjb-aRFyV"
      },
      "source": [
        "https://docs.python.org/3/library/stdtypes.html#sequence-types-list-tuple-range"
      ]
    },
    {
      "cell_type": "code",
      "metadata": {
        "colab": {
          "base_uri": "https://localhost:8080/"
        },
        "id": "4JHprJNxo6t1",
        "outputId": "bafe5003-d097-45dc-fe79-5e02e5a62fcc"
      },
      "source": [
        "list = [ 'abcd', 786 , 2.23, 'john', 70.2 ]\n",
        "tinylist = [123, 'john']\n",
        "\n",
        "print(list)          # Prints complete list\n",
        "print(list[0])       # Prints first element of the list\n",
        "print(list[1:3])     # Prints elements starting from 2nd till 3rd \n",
        "print(list[2:])      # Prints elements starting from 3rd element\n",
        "print(tinylist * 2)  # Prints list two times in the same list\n",
        "print(list + tinylist) # Prints concatenated lists in the same list"
      ],
      "execution_count": null,
      "outputs": [
        {
          "output_type": "stream",
          "name": "stdout",
          "text": [
            "['abcd', 786, 2.23, 'john', 70.2]\n",
            "abcd\n",
            "[786, 2.23]\n",
            "[2.23, 'john', 70.2]\n",
            "[123, 'john', 123, 'john']\n",
            "['abcd', 786, 2.23, 'john', 70.2, 123, 'john']\n"
          ]
        }
      ]
    },
    {
      "cell_type": "code",
      "metadata": {
        "colab": {
          "base_uri": "https://localhost:8080/"
        },
        "id": "IpqPY8Wy0HOu",
        "outputId": "440f8cb2-4242-472b-c6a8-a6bd64486327"
      },
      "source": [
        "lista_de_frutas = ['uva', 'pera', 'maçã', 'banana']\n",
        "print(f'Lista de frutas: {lista_de_frutas}')"
      ],
      "execution_count": null,
      "outputs": [
        {
          "output_type": "stream",
          "name": "stdout",
          "text": [
            "Lista de frutas: ['uva', 'pera', 'maçã', 'banana']\n"
          ]
        }
      ]
    },
    {
      "cell_type": "code",
      "metadata": {
        "colab": {
          "base_uri": "https://localhost:8080/"
        },
        "id": "S22LQqqN0lVv",
        "outputId": "dc35c163-9009-429d-8288-07a3d404b3dc"
      },
      "source": [
        "print(f'primeiro elemento: {lista_de_frutas[0]}') "
      ],
      "execution_count": null,
      "outputs": [
        {
          "output_type": "stream",
          "name": "stdout",
          "text": [
            "primeiro elemento: uva\n"
          ]
        }
      ]
    },
    {
      "cell_type": "code",
      "metadata": {
        "id": "08NhRdBPWq1w",
        "outputId": "57c71854-047c-4941-fc10-75fae155afbb",
        "colab": {
          "base_uri": "https://localhost:8080/"
        }
      },
      "source": [
        "lista_de_indices_frutas = [0, 1, 2, 3]\n",
        "print(f' Lista de indices {lista_de_indices_frutas} da lista de frutas: {lista_de_frutas}')"
      ],
      "execution_count": null,
      "outputs": [
        {
          "output_type": "stream",
          "name": "stdout",
          "text": [
            " Lista de indices [0, 1, 2, 3] da lista de frutas: ['uva', 'pera', 'maçã', 'banana']\n"
          ]
        }
      ]
    },
    {
      "cell_type": "code",
      "metadata": {
        "id": "bbsEUnClWq1x",
        "outputId": "83e51d65-276a-4cad-fafe-5db615b5ebe0",
        "colab": {
          "base_uri": "https://localhost:8080/"
        }
      },
      "source": [
        "for indice in range (0, len(lista_de_indices_frutas) ):\n",
        "    print(f'{lista_de_indices_frutas[indice]}, {lista_de_frutas[indice]}')"
      ],
      "execution_count": null,
      "outputs": [
        {
          "output_type": "stream",
          "name": "stdout",
          "text": [
            "0, uva\n",
            "1, pera\n",
            "2, maçã\n",
            "3, banana\n"
          ]
        }
      ]
    },
    {
      "cell_type": "code",
      "metadata": {
        "colab": {
          "base_uri": "https://localhost:8080/"
        },
        "id": "fKMcapPrWgdr",
        "outputId": "94ad4a6d-dd72-4c7d-e443-d7dc6f7bf419"
      },
      "source": [
        "lista_de_nomes = ['Antonio', 'Maria', 'João', 'Francisco']\n",
        "lista_de_indices = [0, 1, 2, 3]\n",
        "print(lista_de_nomes)\n",
        "print(lista_de_indices)"
      ],
      "execution_count": null,
      "outputs": [
        {
          "output_type": "stream",
          "name": "stdout",
          "text": [
            "['Antonio', 'Maria', 'João', 'Francisco']\n",
            "[0, 1, 2, 3]\n"
          ]
        }
      ]
    },
    {
      "cell_type": "code",
      "metadata": {
        "colab": {
          "base_uri": "https://localhost:8080/"
        },
        "id": "0qlEpIOu1FcU",
        "outputId": "ad3db59c-2fe3-4675-97d3-8dbbe449e6df"
      },
      "source": [
        "lista_de_nomes[2]\n",
        "print(f'do segundo elemento até o quarto elemento: {lista_de_nomes[1:4]}')"
      ],
      "execution_count": null,
      "outputs": [
        {
          "output_type": "stream",
          "name": "stdout",
          "text": [
            "do segundo elemento até o quarto elemento: ['Maria', 'João', 'Francisco']\n"
          ]
        }
      ]
    },
    {
      "cell_type": "markdown",
      "metadata": {
        "id": "QiAbGcCXK0ML"
      },
      "source": [
        "## 4.1) Adicionando um elemento na lista"
      ]
    },
    {
      "cell_type": "code",
      "metadata": {
        "id": "LX-hGFllWshp"
      },
      "source": [
        "# operações com listas\n",
        "# https://docs.python.org/3/tutorial/datastructures.html\n",
        "# adiciona um elemento na lista\n",
        "lista_de_nomes.append('Matheus')"
      ],
      "execution_count": null,
      "outputs": []
    },
    {
      "cell_type": "code",
      "metadata": {
        "colab": {
          "base_uri": "https://localhost:8080/"
        },
        "id": "4uGr6W3SW1cV",
        "outputId": "81c5399a-a7b7-4876-e166-e95c8eb979b3"
      },
      "source": [
        "print(lista_de_nomes)"
      ],
      "execution_count": null,
      "outputs": [
        {
          "output_type": "stream",
          "name": "stdout",
          "text": [
            "['Antonio', 'Maria', 'João', 'Francisco', 'Matheus']\n"
          ]
        }
      ]
    },
    {
      "cell_type": "code",
      "metadata": {
        "colab": {
          "base_uri": "https://localhost:8080/"
        },
        "id": "BKyYrYfR171A",
        "outputId": "fbda10e9-4842-4b0c-ceb8-c8fb22c4fd56"
      },
      "source": [
        "lista_de_nomes.append('Maria')\n",
        "print(lista_de_nomes)"
      ],
      "execution_count": null,
      "outputs": [
        {
          "output_type": "stream",
          "name": "stdout",
          "text": [
            "['Antonio', 'Maria', 'João', 'Francisco', 'Matheus', 'Maria']\n"
          ]
        }
      ]
    },
    {
      "cell_type": "code",
      "metadata": {
        "colab": {
          "base_uri": "https://localhost:8080/"
        },
        "id": "0bT_u2aj2cEU",
        "outputId": "c29fdbc1-b74d-4b71-c4da-280b09189ad0"
      },
      "source": [
        "lista_de_nomes.count('Maria')"
      ],
      "execution_count": null,
      "outputs": [
        {
          "output_type": "execute_result",
          "data": {
            "text/plain": [
              "2"
            ]
          },
          "metadata": {},
          "execution_count": 39
        }
      ]
    },
    {
      "cell_type": "markdown",
      "metadata": {
        "id": "hRFgHBwMK0MM"
      },
      "source": [
        "## 4.2) Remove elemento da lista"
      ]
    },
    {
      "cell_type": "code",
      "metadata": {
        "colab": {
          "base_uri": "https://localhost:8080/"
        },
        "id": "9jDZU0rPW4yy",
        "outputId": "d001ed1f-3514-4ae4-be90-244b14cdaab2"
      },
      "source": [
        "# Remove o último elemento da lista\n",
        "\n",
        "print(lista_de_nomes.pop() )"
      ],
      "execution_count": null,
      "outputs": [
        {
          "output_type": "stream",
          "name": "stdout",
          "text": [
            "Maria\n"
          ]
        }
      ]
    },
    {
      "cell_type": "code",
      "metadata": {
        "colab": {
          "base_uri": "https://localhost:8080/"
        },
        "id": "ByDSQUV2Xrsz",
        "outputId": "c596643a-c94a-4295-cb18-79d9d3903f13"
      },
      "source": [
        "print(lista_de_nomes)"
      ],
      "execution_count": null,
      "outputs": [
        {
          "output_type": "stream",
          "name": "stdout",
          "text": [
            "['Antonio', 'Maria', 'João', 'Francisco', 'Matheus']\n"
          ]
        }
      ]
    },
    {
      "cell_type": "code",
      "metadata": {
        "colab": {
          "base_uri": "https://localhost:8080/"
        },
        "id": "cFBmAuuMXut6",
        "outputId": "c4f9c7a7-14f4-483c-dfe7-8c6c4f350d21"
      },
      "source": [
        "# Remove um dado elemento da lista, caso não exista lança uma exception ValueError\n",
        "print(lista_de_nomes.remove('Maria') )"
      ],
      "execution_count": null,
      "outputs": [
        {
          "output_type": "stream",
          "name": "stdout",
          "text": [
            "None\n"
          ]
        }
      ]
    },
    {
      "cell_type": "code",
      "metadata": {
        "colab": {
          "base_uri": "https://localhost:8080/"
        },
        "id": "5f-P0v7gX7Zx",
        "outputId": "b6ce97a0-e8c6-49cf-feef-6afafd411673"
      },
      "source": [
        "print(lista_de_nomes)"
      ],
      "execution_count": null,
      "outputs": [
        {
          "output_type": "stream",
          "name": "stdout",
          "text": [
            "['Antonio', 'João', 'Francisco', 'Matheus']\n"
          ]
        }
      ]
    },
    {
      "cell_type": "code",
      "metadata": {
        "colab": {
          "base_uri": "https://localhost:8080/",
          "height": 183
        },
        "id": "T2negNStYChK",
        "outputId": "2b7de6ab-f3c7-4129-b562-aca6ff65c1d4"
      },
      "source": [
        "# caso o elemento nao exista na lista, lanca uma excecao\n",
        "print(lista_de_nomes.remove('Gisele') )"
      ],
      "execution_count": null,
      "outputs": [
        {
          "output_type": "error",
          "ename": "ValueError",
          "evalue": "ignored",
          "traceback": [
            "\u001b[0;31m---------------------------------------------------------------------------\u001b[0m",
            "\u001b[0;31mValueError\u001b[0m                                Traceback (most recent call last)",
            "\u001b[0;32m<ipython-input-44-a48d2eb10a8a>\u001b[0m in \u001b[0;36m<module>\u001b[0;34m()\u001b[0m\n\u001b[1;32m      1\u001b[0m \u001b[0;31m# caso o elemento nao exista na lista, lanca uma excecao\u001b[0m\u001b[0;34m\u001b[0m\u001b[0;34m\u001b[0m\u001b[0;34m\u001b[0m\u001b[0m\n\u001b[0;32m----> 2\u001b[0;31m \u001b[0mprint\u001b[0m\u001b[0;34m(\u001b[0m\u001b[0mlista_de_nomes\u001b[0m\u001b[0;34m.\u001b[0m\u001b[0mremove\u001b[0m\u001b[0;34m(\u001b[0m\u001b[0;34m'Gisele'\u001b[0m\u001b[0;34m)\u001b[0m \u001b[0;34m)\u001b[0m\u001b[0;34m\u001b[0m\u001b[0;34m\u001b[0m\u001b[0m\n\u001b[0m",
            "\u001b[0;31mValueError\u001b[0m: list.remove(x): x not in list"
          ]
        }
      ]
    },
    {
      "cell_type": "code",
      "metadata": {
        "id": "fE1-qiY52_Bi"
      },
      "source": [
        "try: \n",
        "  elemento = 'Gisele'\n",
        "  print(lista_de_nomes.remove(elemento) )\n",
        "except Exception as e:\n",
        "  print(f'Elemento nao existe - {e}')"
      ],
      "execution_count": null,
      "outputs": []
    },
    {
      "cell_type": "code",
      "metadata": {
        "id": "X0hWJhf8Yyxe"
      },
      "source": [
        "# Limpa uma lista\n",
        "\n",
        "lista_de_nomes.clear()"
      ],
      "execution_count": null,
      "outputs": []
    },
    {
      "cell_type": "code",
      "metadata": {
        "id": "D-77TNfCZCZi"
      },
      "source": [
        "print(lista_de_nomes)"
      ],
      "execution_count": null,
      "outputs": []
    },
    {
      "cell_type": "code",
      "metadata": {
        "id": "0CdXFOKpZDzx"
      },
      "source": [
        "lista_de_nomes = ['Antonio', 'Maria', 'João', 'Francisco']"
      ],
      "execution_count": null,
      "outputs": []
    },
    {
      "cell_type": "markdown",
      "metadata": {
        "id": "ilnP34cTK0MW"
      },
      "source": [
        "## 4.3) Built in function para Listas"
      ]
    },
    {
      "cell_type": "code",
      "metadata": {
        "colab": {
          "base_uri": "https://localhost:8080/"
        },
        "id": "IIzuFpaXZIYv",
        "outputId": "7c4edada-84e6-4fad-88ef-34f70d9e5c41"
      },
      "source": [
        "# Quantas vezes um elemento aparece na lista\n",
        "\n",
        "lista_de_nomes.append('Antonio')\n",
        "\n",
        "qtd_antonio_lista = lista_de_nomes.count(\"Antonio\")\n",
        "\n",
        "print(f'Quantidade de vezes {qtd_antonio_lista} que aparece o nome Antonio na lista lista_de_nomes')"
      ],
      "execution_count": null,
      "outputs": [
        {
          "output_type": "stream",
          "name": "stdout",
          "text": [
            "Quantidade de vezes 2 que aparece o nome Antonio na lista lista_de_nomes\n"
          ]
        }
      ]
    },
    {
      "cell_type": "code",
      "metadata": {
        "id": "KrpqE7eUZVtn"
      },
      "source": [
        "#ordenando uma lista por ordem alfabética\n",
        "\n",
        "lista_de_nomes.sort()"
      ],
      "execution_count": null,
      "outputs": []
    },
    {
      "cell_type": "code",
      "metadata": {
        "colab": {
          "base_uri": "https://localhost:8080/"
        },
        "id": "l17TjQtaa8r7",
        "outputId": "6db4f345-1cf7-412a-ad1a-26e752a7aa99"
      },
      "source": [
        "print(lista_de_nomes)"
      ],
      "execution_count": null,
      "outputs": [
        {
          "output_type": "stream",
          "name": "stdout",
          "text": [
            "['Antonio', 'Antonio', 'Francisco', 'João', 'Matheus']\n"
          ]
        }
      ]
    },
    {
      "cell_type": "code",
      "metadata": {
        "colab": {
          "base_uri": "https://localhost:8080/"
        },
        "id": "y0Plolxja-ve",
        "outputId": "ae7d9682-b54c-4df2-d9f7-2c8c8cdd138c"
      },
      "source": [
        "lista_de_nomes.reverse()\n",
        "print(lista_de_nomes)"
      ],
      "execution_count": null,
      "outputs": [
        {
          "output_type": "stream",
          "name": "stdout",
          "text": [
            "['Matheus', 'João', 'Francisco', 'Antonio', 'Antonio']\n"
          ]
        }
      ]
    },
    {
      "cell_type": "markdown",
      "metadata": {
        "id": "InhUwkrvK0MX"
      },
      "source": [
        "## 4.4) Criando novos elementos e inserindo na lista"
      ]
    },
    {
      "cell_type": "code",
      "metadata": {
        "colab": {
          "base_uri": "https://localhost:8080/"
        },
        "id": "E9QkL6FDbGJ2",
        "outputId": "7909683b-0ffa-43d9-a2dd-1f42a560e3a6"
      },
      "source": [
        "# Forma normal\n",
        "\n",
        "quadrados = []\n",
        "for item in range(10):\n",
        "    quadrados.append(item*item)\n",
        "print(quadrados)"
      ],
      "execution_count": null,
      "outputs": [
        {
          "output_type": "stream",
          "name": "stdout",
          "text": [
            "[0, 1, 4, 9, 16, 25, 36, 49, 64, 81]\n"
          ]
        }
      ]
    },
    {
      "cell_type": "code",
      "metadata": {
        "colab": {
          "base_uri": "https://localhost:8080/"
        },
        "id": "UsFxrb9peMlV",
        "outputId": "c1268cdf-98cc-4f40-b52c-8e224e75fb81"
      },
      "source": [
        "# List comprehension\n",
        "\n",
        "[item**2 for item in range(10)]"
      ],
      "execution_count": null,
      "outputs": [
        {
          "output_type": "execute_result",
          "data": {
            "text/plain": [
              "[0, 1, 4, 9, 16, 25, 36, 49, 64, 81]"
            ]
          },
          "metadata": {},
          "execution_count": 50
        }
      ]
    },
    {
      "cell_type": "markdown",
      "metadata": {
        "id": "SGbRueq9K0MY"
      },
      "source": [
        "# 5) Tuplas"
      ]
    },
    {
      "cell_type": "code",
      "metadata": {
        "colab": {
          "base_uri": "https://localhost:8080/"
        },
        "id": "zzfsLwsbebMe",
        "outputId": "7a3b2aa6-c941-4bff-9166-c2b7b336a17a"
      },
      "source": [
        "tuple = ( 'abcd', 786 , 2.23, 'john', 70.2  )\n",
        "tinytuple = (123, 'john')\n",
        "\n",
        "print(tuple)               # Prints the complete tuple\n",
        "print(tuple[0])            # Prints first element of the tuple\n",
        "print(tuple[1:3])          # Prints elements of the tuple starting from 2nd till 3rd \n",
        "print(tuple[2:])           # Prints elements of the tuple starting from 3rd element\n",
        "print(tinytuple * 2)       # Prints the contents of the tuple twice\n",
        "print(tuple + tinytuple)   # Prints concatenated tuples"
      ],
      "execution_count": null,
      "outputs": [
        {
          "output_type": "stream",
          "name": "stdout",
          "text": [
            "('abcd', 786, 2.23, 'john', 70.2)\n",
            "abcd\n",
            "(786, 2.23)\n",
            "(2.23, 'john', 70.2)\n",
            "(123, 'john', 123, 'john')\n",
            "('abcd', 786, 2.23, 'john', 70.2, 123, 'john')\n"
          ]
        }
      ]
    },
    {
      "cell_type": "code",
      "metadata": {
        "colab": {
          "base_uri": "https://localhost:8080/"
        },
        "id": "TqiIL6wwfRhX",
        "outputId": "dd4ac243-3599-4203-ca22-e00e141beca0"
      },
      "source": [
        "# Extração dos elementos de uma tupla e atribuição em variáveis\n",
        "a,b,c = ('Armando', 'Soares', 'Sousa')\n",
        "print(f'a: {a}, b: {b}, c: {c}')"
      ],
      "execution_count": null,
      "outputs": [
        {
          "output_type": "stream",
          "name": "stdout",
          "text": [
            "a: Armando, b: Soares, c: Sousa\n"
          ]
        }
      ]
    },
    {
      "cell_type": "code",
      "metadata": {
        "id": "gxOqP7HC4V8l"
      },
      "source": [
        "dados_do_terreno = (10, 40)\n",
        "largura, comprimento = dados_do_terreno"
      ],
      "execution_count": null,
      "outputs": []
    },
    {
      "cell_type": "code",
      "metadata": {
        "colab": {
          "base_uri": "https://localhost:8080/"
        },
        "id": "PaUrF0Gf4jDs",
        "outputId": "0455c946-2a4f-4de4-a8dc-d5b662b819e2"
      },
      "source": [
        "print(f'A largura do terreno é: {largura}m e o comprimento é: {comprimento}m. A área total do terrento é {largura * comprimento}m2')"
      ],
      "execution_count": null,
      "outputs": [
        {
          "output_type": "stream",
          "name": "stdout",
          "text": [
            "A largura do terreno é: 10m e o comprimento é: 40m. A área total do terrento é 400m2\n"
          ]
        }
      ]
    },
    {
      "cell_type": "code",
      "metadata": {
        "colab": {
          "base_uri": "https://localhost:8080/"
        },
        "id": "GHY_Xew34wfH",
        "outputId": "9a15dabb-0f60-4a37-bd81-68c95866b526"
      },
      "source": [
        "print(f'Lista de nomes: {lista_de_nomes}')"
      ],
      "execution_count": null,
      "outputs": [
        {
          "output_type": "stream",
          "name": "stdout",
          "text": [
            "Lista de nomes: ['Matheus', 'João', 'Francisco', 'Antonio', 'Antonio']\n"
          ]
        }
      ]
    },
    {
      "cell_type": "markdown",
      "metadata": {
        "id": "6mZzHndgK0MZ"
      },
      "source": [
        "# 6) Conjuntos (Set) elementos que são únicos no conjunto"
      ]
    },
    {
      "cell_type": "code",
      "metadata": {
        "colab": {
          "base_uri": "https://localhost:8080/"
        },
        "id": "Fdcas6Vbf2XJ",
        "outputId": "75ee29bf-4687-4e64-96c5-0ff7c7511a0b"
      },
      "source": [
        "# set - conjunto com elementos únicos\n",
        "\n",
        "print(f'lista_de_nomes: {lista_de_nomes}')\n",
        "\n",
        "conjunto_lista_de_nomes = set(lista_de_nomes)\n",
        "print(f'conjunto_lista_de_nomes: {conjunto_lista_de_nomes}')"
      ],
      "execution_count": null,
      "outputs": [
        {
          "output_type": "stream",
          "name": "stdout",
          "text": [
            "lista_de_nomes: ['Matheus', 'João', 'Francisco', 'Antonio', 'Antonio']\n",
            "conjunto_lista_de_nomes: {'Francisco', 'Matheus', 'João', 'Antonio'}\n"
          ]
        }
      ]
    },
    {
      "cell_type": "markdown",
      "metadata": {
        "id": "3UY6LBLCK0Ma"
      },
      "source": [
        "# 7) Dicionarios"
      ]
    },
    {
      "cell_type": "markdown",
      "metadata": {
        "id": "MRPh40TqSLgs"
      },
      "source": [
        "https://docs.python.org/3/library/stdtypes.html#mapping-types-dict"
      ]
    },
    {
      "cell_type": "markdown",
      "metadata": {
        "id": "uDPuto35Wq2A"
      },
      "source": [
        "{chave1: valor1, chave2:valo2, ..., chaven:valorN}"
      ]
    },
    {
      "cell_type": "markdown",
      "metadata": {
        "id": "GouKzEI5Wq2A"
      },
      "source": [
        "## Operações gerais"
      ]
    },
    {
      "cell_type": "code",
      "metadata": {
        "colab": {
          "base_uri": "https://localhost:8080/"
        },
        "id": "euzHnddAgbfs",
        "outputId": "cd9d90d3-042b-4002-c681-68d6608fb39b"
      },
      "source": [
        "# Dicionários\n",
        "\n",
        "dict = {}\n",
        "print(f'dict: {dict}')                  # prints complete dictionary\n",
        "\n",
        "dict['one'] = \"This is the content of key 'one'\"\n",
        "dict[2]     = \"This is the content of key 2\"\n",
        "\n",
        "tinydict = {'name': 'john','code':6734, 'dept': 'sales'}\n",
        "\n",
        "agenda = {}\n",
        "agenda = {1: 'Armando', 2: 'João', 3: 'Maria'}\n",
        "\n",
        "print(f\"dict['one']: {dict['one']} \")       # Prints value for 'one' key\n",
        "print(f'dict[2]: {dict[2]}')           # Prints value for 2 key\n",
        "print(f'dict: {dict}')                  # prints complete dictionary\n",
        "print('')\n",
        "print(f'tinydict: {tinydict}')          # Prints complete dictionary\n",
        "print(f'tinydict.keys(): {tinydict.keys()}')   # Prints all the keys\n",
        "print(f'tinydict.values(): {tinydict.values()}') # Prints all the values\n",
        "print(f'tinydict.items(): {tinydict.items()}')\n",
        "print('')\n",
        "print(f'agenda.keys(): {agenda.keys()}' )\n",
        "print(f'agenda.values(): {agenda.values()}' )\n",
        "print(f'agenda.items(): {agenda.items()}' )"
      ],
      "execution_count": null,
      "outputs": [
        {
          "output_type": "stream",
          "name": "stdout",
          "text": [
            "dict: {}\n",
            "dict['one']: This is the content of key 'one' \n",
            "dict[2]: This is the content of key 2\n",
            "dict: {'one': \"This is the content of key 'one'\", 2: 'This is the content of key 2'}\n",
            "\n",
            "tinydict: {'name': 'john', 'code': 6734, 'dept': 'sales'}\n",
            "tinydict.keys(): dict_keys(['name', 'code', 'dept'])\n",
            "tinydict.values(): dict_values(['john', 6734, 'sales'])\n",
            "tinydict.items(): dict_items([('name', 'john'), ('code', 6734), ('dept', 'sales')])\n",
            "\n",
            "agenda.keys(): dict_keys([1, 2, 3])\n",
            "agenda.values(): dict_values(['Armando', 'João', 'Maria'])\n",
            "agenda.items(): dict_items([(1, 'Armando'), (2, 'João'), (3, 'Maria')])\n"
          ]
        }
      ]
    },
    {
      "cell_type": "markdown",
      "metadata": {
        "id": "upX5Oi41Wq2B"
      },
      "source": [
        "## Iterando em um dicionarário"
      ]
    },
    {
      "cell_type": "code",
      "metadata": {
        "colab": {
          "base_uri": "https://localhost:8080/"
        },
        "id": "yyMhVgCVhBj4",
        "outputId": "eeaf8258-25d9-492e-c940-d7c00a87755d"
      },
      "source": [
        "# Iterando em um dicionário\n",
        "for key, value in dict.items():\n",
        "  print(f'key: {key}, value: {value}')"
      ],
      "execution_count": null,
      "outputs": [
        {
          "output_type": "stream",
          "name": "stdout",
          "text": [
            "key: one, value: This is the content of key 'one'\n",
            "key: 2, value: This is the content of key 2\n"
          ]
        }
      ]
    },
    {
      "cell_type": "code",
      "metadata": {
        "id": "Q1wBv6aMWq2C",
        "outputId": "bef97913-f829-441e-b016-c85bbfd167b4",
        "colab": {
          "base_uri": "https://localhost:8080/"
        }
      },
      "source": [
        "for k, v in dict.items():\n",
        "    print(f'Chave: {k}, Valor: {v}')"
      ],
      "execution_count": null,
      "outputs": [
        {
          "output_type": "stream",
          "name": "stdout",
          "text": [
            "Chave: one, Valor: This is the content of key 'one'\n",
            "Chave: 2, Valor: This is the content of key 2\n"
          ]
        }
      ]
    },
    {
      "cell_type": "code",
      "metadata": {
        "id": "FKyVKTLEWq2C",
        "outputId": "ec35e92c-c6a1-49a4-9965-c2625888cdd0",
        "colab": {
          "base_uri": "https://localhost:8080/"
        }
      },
      "source": [
        "for key, value in tinydict.items(): \n",
        "    print(f'key: {key}, value: {value}')"
      ],
      "execution_count": null,
      "outputs": [
        {
          "output_type": "stream",
          "name": "stdout",
          "text": [
            "key: name, value: john\n",
            "key: code, value: 6734\n",
            "key: dept, value: sales\n"
          ]
        }
      ]
    },
    {
      "cell_type": "code",
      "metadata": {
        "id": "nlWjbn4iWq2C",
        "outputId": "7af3c330-cf35-4311-c6f2-c71a23517a50",
        "colab": {
          "base_uri": "https://localhost:8080/"
        }
      },
      "source": [
        "for k, v in agenda.items():\n",
        "    print(f'key: {k}, value: {v}')"
      ],
      "execution_count": null,
      "outputs": [
        {
          "output_type": "stream",
          "name": "stdout",
          "text": [
            "key: 1, value: Armando\n",
            "key: 2, value: João\n",
            "key: 3, value: Maria\n"
          ]
        }
      ]
    },
    {
      "cell_type": "markdown",
      "metadata": {
        "id": "L-n5yVnJWq2D"
      },
      "source": [
        "## Adicinando um elemento em um dicionário"
      ]
    },
    {
      "cell_type": "code",
      "metadata": {
        "colab": {
          "base_uri": "https://localhost:8080/"
        },
        "id": "1_r_gwzNhmnY",
        "outputId": "5d59f5da-6af8-424b-c5af-fa18788b24cd"
      },
      "source": [
        "# Adicionando um elemento ao dicionário\n",
        "agenda[4] = 'Francisco'\n",
        "\n",
        "for key, value in agenda.items():\n",
        "  print(key, value)"
      ],
      "execution_count": null,
      "outputs": [
        {
          "output_type": "stream",
          "name": "stdout",
          "text": [
            "1 Armando\n",
            "2 João\n",
            "3 Maria\n",
            "4 Francisco\n"
          ]
        }
      ]
    },
    {
      "cell_type": "markdown",
      "metadata": {
        "id": "eat4poYjWq2E"
      },
      "source": [
        "## Mapeando elementos de listas diferentes"
      ]
    },
    {
      "cell_type": "code",
      "metadata": {
        "id": "T28rsRQzWq2F",
        "outputId": "142dc8dc-0063-49fa-afde-17b7c81ccca0",
        "colab": {
          "base_uri": "https://localhost:8080/"
        }
      },
      "source": [
        "questions = ['name', 'quest', 'favorite color'] \n",
        "answers = ['lancelot', 'the holy grail', 'blue']\n",
        "\n",
        "for item in range(3):\n",
        "    print(f'Questao: {questions[item]} -> resposta: {answers[item]}')"
      ],
      "execution_count": null,
      "outputs": [
        {
          "output_type": "stream",
          "name": "stdout",
          "text": [
            "Questao: name -> resposta: lancelot\n",
            "Questao: quest -> resposta: the holy grail\n",
            "Questao: favorite color -> resposta: blue\n"
          ]
        }
      ]
    },
    {
      "cell_type": "code",
      "metadata": {
        "colab": {
          "base_uri": "https://localhost:8080/"
        },
        "id": "mbyp784Fh4Vq",
        "outputId": "99697c11-5497-4f7a-f7b4-0e23675189cf"
      },
      "source": [
        "# To loop over two or more sequences at the same time, the entries can be paired with the zip() function.\n",
        "print('Questions and answers') \n",
        "for q, a in zip(questions, answers):\n",
        "    print(f'What is your {q}?  It is {a}.')"
      ],
      "execution_count": null,
      "outputs": [
        {
          "output_type": "stream",
          "name": "stdout",
          "text": [
            "Questions and answers\n",
            "What is your name?  It is lancelot.\n",
            "What is your quest?  It is the holy grail.\n",
            "What is your favorite color?  It is blue.\n"
          ]
        }
      ]
    },
    {
      "cell_type": "markdown",
      "metadata": {
        "id": "dse0SpUnWq2G"
      },
      "source": [
        "## Criando um dicoionário a partir de listas mapeadas"
      ]
    },
    {
      "cell_type": "code",
      "metadata": {
        "colab": {
          "base_uri": "https://localhost:8080/"
        },
        "id": "xDhtoknNiY_k",
        "outputId": "ec921985-6b47-46ab-ba16-f8a7b22c4541"
      },
      "source": [
        "dict_questions_answers = {}\n",
        "\n",
        "for q, a in zip(questions, answers): \n",
        "  dict_questions_answers[q] = a\n",
        "\n",
        "print(dict_questions_answers.keys() )\n",
        "print(dict_questions_answers.values() )\n"
      ],
      "execution_count": null,
      "outputs": [
        {
          "output_type": "stream",
          "name": "stdout",
          "text": [
            "dict_keys(['name', 'quest', 'favorite color'])\n",
            "dict_values(['lancelot', 'the holy grail', 'blue'])\n"
          ]
        }
      ]
    },
    {
      "cell_type": "code",
      "metadata": {
        "colab": {
          "base_uri": "https://localhost:8080/"
        },
        "id": "3zzCJARnilC3",
        "outputId": "2eeb1135-e740-4766-9c41-c07fa0bd8ec0"
      },
      "source": [
        "print(dict_questions_answers)"
      ],
      "execution_count": null,
      "outputs": [
        {
          "output_type": "stream",
          "name": "stdout",
          "text": [
            "{'name': 'lancelot', 'quest': 'the holy grail', 'favorite color': 'blue'}\n"
          ]
        }
      ]
    },
    {
      "cell_type": "markdown",
      "metadata": {
        "id": "g6Qlu976Wq2I"
      },
      "source": [
        "## Um dicionário de clientes"
      ]
    },
    {
      "cell_type": "markdown",
      "metadata": {
        "id": "wG_Xm-N1Wq2I"
      },
      "source": [
        "Meus clientes:\n",
        "\n",
        "chave -> valor\n",
        "cpf -> (nome, lista_de_telefones)\n",
        "\n",
        "chave = cpf\n",
        "valor = (nome, lista_de_telefones)"
      ]
    },
    {
      "cell_type": "code",
      "metadata": {
        "id": "6zTLw2FvWq2I"
      },
      "source": [
        "meus_clientes = {}\n",
        "\n",
        "meus_clientes['79846149387'] = ('Armando', ['32122345', '994693558'])"
      ],
      "execution_count": null,
      "outputs": []
    },
    {
      "cell_type": "code",
      "metadata": {
        "id": "jJNC_3q-Wq2I",
        "outputId": "d9c120b8-59e4-4f6e-cce3-94743892e042",
        "colab": {
          "base_uri": "https://localhost:8080/"
        }
      },
      "source": [
        "print(f'meus_clientes: {meus_clientes}')"
      ],
      "execution_count": null,
      "outputs": [
        {
          "output_type": "stream",
          "name": "stdout",
          "text": [
            "meus_clientes: {'79846149387': ('Armando', ['32122345', '994693558'])}\n"
          ]
        }
      ]
    },
    {
      "cell_type": "code",
      "metadata": {
        "id": "DeFhikDCWq2J",
        "outputId": "a769a06d-0fcc-4754-8850-c777ae0a4a89",
        "colab": {
          "base_uri": "https://localhost:8080/"
        }
      },
      "source": [
        "for k, v in meus_clientes.items():\n",
        "    print(f'chave: {k}, valor: {v}')"
      ],
      "execution_count": null,
      "outputs": [
        {
          "output_type": "stream",
          "name": "stdout",
          "text": [
            "chave: 79846149387, valor: ('Armando', ['32122345', '994693558'])\n"
          ]
        }
      ]
    },
    {
      "cell_type": "code",
      "metadata": {
        "id": "DkKHOik5Wq2J",
        "outputId": "44705eda-6963-490f-b741-3eca970e746e",
        "colab": {
          "base_uri": "https://localhost:8080/"
        }
      },
      "source": [
        "tupla_teste = ('Armando', ['32122345', '994693558'])\n",
        "print(f'1o. elemento da tupla: {tupla_teste[0]}')\n",
        "print(f'2o. elemento da tupla: {tupla_teste[1]}')"
      ],
      "execution_count": null,
      "outputs": [
        {
          "output_type": "stream",
          "name": "stdout",
          "text": [
            "1o. elemento da tupla: Armando\n",
            "2o. elemento da tupla: ['32122345', '994693558']\n"
          ]
        }
      ]
    },
    {
      "cell_type": "code",
      "metadata": {
        "id": "Kjj_T2-xWq2K",
        "outputId": "4d1a93ca-17e4-45dc-e68b-6813fada3609",
        "colab": {
          "base_uri": "https://localhost:8080/"
        }
      },
      "source": [
        "cpf = '79846149387'\n",
        "nome = meus_clientes[cpf][0]\n",
        "lista_de_telefones = meus_clientes[cpf][1]\n",
        "\n",
        "print(f'nome: {nome}, lista de telefones: {lista_de_telefones}')"
      ],
      "execution_count": null,
      "outputs": [
        {
          "output_type": "stream",
          "name": "stdout",
          "text": [
            "nome: Armando, lista de telefones: ['32122345', '994693558']\n"
          ]
        }
      ]
    },
    {
      "cell_type": "markdown",
      "metadata": {
        "id": "SUxJjixrK0Mc"
      },
      "source": [
        "# 8) Operacoes aritmeticas"
      ]
    },
    {
      "cell_type": "markdown",
      "metadata": {
        "id": "VxDxEZXoSz6U"
      },
      "source": [
        "https://docs.python.org/3/library/stdtypes.html#numeric-types-int-float-complex"
      ]
    },
    {
      "cell_type": "code",
      "metadata": {
        "colab": {
          "base_uri": "https://localhost:8080/"
        },
        "id": "CN26Y5PXjTl9",
        "outputId": "b41462c4-36ee-4783-a1e2-14ec21fd502e"
      },
      "source": [
        "# Operações aritiméticas simples\n",
        "\n",
        "a = 21\n",
        "b = 10\n",
        "c = 0\n",
        "\n",
        "print(f'a = {a}')\n",
        "print(f'b = {b}')\n",
        "print('')\n",
        "\n",
        "c = a + b\n",
        "print(f\"a + b = {c}\")\n",
        "\n",
        "c = a - b\n",
        "print(f\"a - b = {c}\")\n",
        "\n",
        "c = a * b\n",
        "print(f\"a * b = {c}\")\n",
        "\n",
        "c = a / b\n",
        "print(f\"a / b =  {c}\")\n",
        "\n",
        "c = a % b\n",
        "print(f\"a módulo b = {c}\")\n",
        "\n",
        "a = 2\n",
        "b = 3\n",
        "c = a**b \n",
        "print(f\"a**b= {c}\")\n",
        "\n",
        "a = 10\n",
        "b = 5\n",
        "c = a//b \n",
        "print(f\"a//b = {c}\")"
      ],
      "execution_count": null,
      "outputs": [
        {
          "output_type": "stream",
          "name": "stdout",
          "text": [
            "a = 21\n",
            "b = 10\n",
            "\n",
            "a + b = 31\n",
            "a - b = 11\n",
            "a * b = 210\n",
            "a / b =  2.1\n",
            "a módulo b = 1\n",
            "a**b= 8\n",
            "a//b = 2\n"
          ]
        }
      ]
    },
    {
      "cell_type": "markdown",
      "metadata": {
        "id": "Fgzyck-zK0Me"
      },
      "source": [
        "# 9) Operacoes de comparacao"
      ]
    },
    {
      "cell_type": "code",
      "metadata": {
        "colab": {
          "base_uri": "https://localhost:8080/"
        },
        "id": "WbmxJVtQkQBG",
        "outputId": "9ff0e554-72d7-49f8-b112-a65fc650fa03"
      },
      "source": [
        "# Operações de comparação\n",
        "\n",
        "a = 21\n",
        "b = 10\n",
        "c = 0\n",
        "\n",
        "if ( a == b ):\n",
        "   print(\"Line 1 - a is equal to b\")\n",
        "else:\n",
        "   print(\"Line 1 - a is not equal to b\")\n",
        "\n",
        "if ( a != b ):\n",
        "   print(\"Line 2 - a is not equal to b\")\n",
        "else:\n",
        "   print(\"Line 2 - a is equal to b\")\n",
        "\n",
        "if ( a < b ):\n",
        "   print(\"Line 4 - a is less than b\")\n",
        "else:\n",
        "   print(\"Line 4 - a is not less than b\")\n",
        "\n",
        "if ( a > b ):\n",
        "   print(\"Line 5 - a is greater than b\")\n",
        "else:\n",
        "   print(\"Line 5 - a is not greater than b\")\n",
        "\n",
        "a = 5\n",
        "b = 20\n",
        "if ( a <= b ):\n",
        "   print(\"Line 6 - a is either less than or equal to  b\")\n",
        "else:\n",
        "   print(\"Line 6 - a is neither less than nor equal to  b\")\n",
        "\n",
        "if ( b >= a ):\n",
        "   print(\"Line 7 - b is either greater than  or equal to b\")\n",
        "else:\n",
        "   print(\"Line 7 - b is neither greater than  nor equal to b\")"
      ],
      "execution_count": null,
      "outputs": [
        {
          "output_type": "stream",
          "name": "stdout",
          "text": [
            "Line 1 - a is not equal to b\n",
            "Line 2 - a is not equal to b\n",
            "Line 4 - a is not less than b\n",
            "Line 5 - a is greater than b\n",
            "Line 6 - a is either less than or equal to  b\n",
            "Line 7 - b is either greater than  or equal to b\n"
          ]
        }
      ]
    },
    {
      "cell_type": "markdown",
      "metadata": {
        "id": "UcHIGkmVK0Mf"
      },
      "source": [
        "# 10) Operacoes de checagem de membros"
      ]
    },
    {
      "cell_type": "code",
      "metadata": {
        "id": "7zOQ2-tBWq2N",
        "outputId": "aba55d57-7982-4f0c-aaf5-8709b029cc2d",
        "colab": {
          "base_uri": "https://localhost:8080/"
        }
      },
      "source": [
        "print(lista_de_nomes)\n",
        "'Francisco' in lista_de_nomes"
      ],
      "execution_count": null,
      "outputs": [
        {
          "output_type": "stream",
          "name": "stdout",
          "text": [
            "['Matheus', 'João', 'Francisco', 'Antonio', 'Antonio']\n"
          ]
        },
        {
          "output_type": "execute_result",
          "data": {
            "text/plain": [
              "True"
            ]
          },
          "metadata": {},
          "execution_count": 74
        }
      ]
    },
    {
      "cell_type": "code",
      "metadata": {
        "colab": {
          "base_uri": "https://localhost:8080/"
        },
        "id": "J6IguqlmlBj4",
        "outputId": "04cc822d-dbe2-42c1-a6ff-acb48236a18d"
      },
      "source": [
        "# Operadores de membership\n",
        "\n",
        "a = 10\n",
        "b = 20\n",
        "list = [1, 2, 3, 4, 5 ];\n",
        "\n",
        "if ( a in list ):\n",
        "   print(\"Line 1 - a is available in the given list\")\n",
        "else:\n",
        "   print(\"Line 1 - a is not available in the given list\")\n",
        "\n",
        "if ( b not in list ):\n",
        "   print(\"Line 2 - b is not available in the given list\")\n",
        "else:\n",
        "   print(\"Line 2 - b is available in the given list\")\n",
        "\n",
        "a = 2\n",
        "if ( a in list ):\n",
        "   print(\"Line 3 - a is available in the given list\")\n",
        "else:\n",
        "   print(\"Line 3 - a is not available in the given list\")"
      ],
      "execution_count": null,
      "outputs": [
        {
          "output_type": "stream",
          "name": "stdout",
          "text": [
            "Line 1 - a is not available in the given list\n",
            "Line 2 - b is not available in the given list\n",
            "Line 3 - a is available in the given list\n"
          ]
        }
      ]
    },
    {
      "cell_type": "markdown",
      "metadata": {
        "id": "wPDBHIO9K0Mg"
      },
      "source": [
        "# 11) Loops"
      ]
    },
    {
      "cell_type": "markdown",
      "metadata": {
        "id": "Lk_d8wc1TX5g"
      },
      "source": [
        "https://docs.python.org/3/tutorial/controlflow.html#for-statements"
      ]
    },
    {
      "cell_type": "markdown",
      "metadata": {
        "id": "CLaMnA-gWq2O"
      },
      "source": [
        "## 11.1) For"
      ]
    },
    {
      "cell_type": "code",
      "metadata": {
        "colab": {
          "base_uri": "https://localhost:8080/"
        },
        "id": "QSdfW-M-md9E",
        "outputId": "e4351b1c-ea6e-4eda-a981-247e490d4e2e"
      },
      "source": [
        "# interacao usando o range\n",
        "for i in range(10):\n",
        "  print(f'i: {i}')"
      ],
      "execution_count": null,
      "outputs": [
        {
          "output_type": "stream",
          "name": "stdout",
          "text": [
            "i: 0\n",
            "i: 1\n",
            "i: 2\n",
            "i: 3\n",
            "i: 4\n",
            "i: 5\n",
            "i: 6\n",
            "i: 7\n",
            "i: 8\n",
            "i: 9\n"
          ]
        }
      ]
    },
    {
      "cell_type": "code",
      "metadata": {
        "id": "pKRbXzp8Wq2P",
        "outputId": "bdc9e79e-98ea-400e-9b12-8be52aa3335a",
        "colab": {
          "base_uri": "https://localhost:8080/"
        }
      },
      "source": [
        "for i in range(4,10):\n",
        "    print(f'i: {i}')"
      ],
      "execution_count": null,
      "outputs": [
        {
          "output_type": "stream",
          "name": "stdout",
          "text": [
            "i: 4\n",
            "i: 5\n",
            "i: 6\n",
            "i: 7\n",
            "i: 8\n",
            "i: 9\n"
          ]
        }
      ]
    },
    {
      "cell_type": "code",
      "metadata": {
        "id": "9g2ysYp1Wq2P",
        "outputId": "108ba301-11d8-4304-c17d-9fd5942efe7e",
        "colab": {
          "base_uri": "https://localhost:8080/"
        }
      },
      "source": [
        "for i in [2, 4, 6, 8, 10, 13, 15]: \n",
        "    print(f'i: {i}')"
      ],
      "execution_count": null,
      "outputs": [
        {
          "output_type": "stream",
          "name": "stdout",
          "text": [
            "i: 2\n",
            "i: 4\n",
            "i: 6\n",
            "i: 8\n",
            "i: 10\n",
            "i: 13\n",
            "i: 15\n"
          ]
        }
      ]
    },
    {
      "cell_type": "code",
      "metadata": {
        "id": "v2ySFi3gWq2Q",
        "outputId": "04e71f53-250e-4683-be7f-43bd482b06c2",
        "colab": {
          "base_uri": "https://localhost:8080/"
        }
      },
      "source": [
        "[i*3 for i in range(10)]"
      ],
      "execution_count": null,
      "outputs": [
        {
          "output_type": "execute_result",
          "data": {
            "text/plain": [
              "[0, 3, 6, 9, 12, 15, 18, 21, 24, 27]"
            ]
          },
          "metadata": {},
          "execution_count": 79
        }
      ]
    },
    {
      "cell_type": "markdown",
      "metadata": {
        "id": "piliNn42K0Mg"
      },
      "source": [
        "### 11.1.1) For each"
      ]
    },
    {
      "cell_type": "code",
      "metadata": {
        "colab": {
          "base_uri": "https://localhost:8080/"
        },
        "id": "VLuEnf-Pl8a7",
        "outputId": "61841fe7-1d55-4962-a2bb-f064fb420494"
      },
      "source": [
        "# For each\n",
        "\n",
        "fruits = ['banana', 'apple',  'mango']\n",
        "for fruit in fruits:        \n",
        "   print('Current fruit :', fruit)"
      ],
      "execution_count": null,
      "outputs": [
        {
          "output_type": "stream",
          "name": "stdout",
          "text": [
            "Current fruit : banana\n",
            "Current fruit : apple\n",
            "Current fruit : mango\n"
          ]
        }
      ]
    },
    {
      "cell_type": "code",
      "metadata": {
        "id": "GqswQL0RWq2Q",
        "outputId": "19466b09-d613-4680-d672-e99dbdb80a55",
        "colab": {
          "base_uri": "https://localhost:8080/"
        }
      },
      "source": [
        "for nome in lista_de_nomes: \n",
        "    print(f'nome: {nome}')"
      ],
      "execution_count": null,
      "outputs": [
        {
          "output_type": "stream",
          "name": "stdout",
          "text": [
            "nome: Matheus\n",
            "nome: João\n",
            "nome: Francisco\n",
            "nome: Antonio\n",
            "nome: Antonio\n"
          ]
        }
      ]
    },
    {
      "cell_type": "markdown",
      "metadata": {
        "id": "BEmyVj0PK0Mh"
      },
      "source": [
        "### 11.1.2) For aninhado"
      ]
    },
    {
      "cell_type": "code",
      "metadata": {
        "colab": {
          "base_uri": "https://localhost:8080/"
        },
        "id": "FV7VI7j0mnq3",
        "outputId": "b96f35cf-f95a-45ed-f671-5f02a0631bad"
      },
      "source": [
        "for num in range(10,20):     #to iterate between 10 to 20\n",
        "  for i in range(2,num):    #to iterate on the factors of the number\n",
        "    if num % i == 0:         #to determine the first factor\n",
        "      j = num / i             #to calculate the second factor\n",
        "      print(f'{num} equals {i} * {j}')\n",
        "      break #to move to the next number, the #first FOR\n",
        "    else:                  # else part of the loop\n",
        "      print(f'{num} is a prime number')\n",
        "      break"
      ],
      "execution_count": null,
      "outputs": [
        {
          "output_type": "stream",
          "name": "stdout",
          "text": [
            "10 equals 2 * 5.0\n",
            "11 is a prime number\n",
            "12 equals 2 * 6.0\n",
            "13 is a prime number\n",
            "14 equals 2 * 7.0\n",
            "15 is a prime number\n",
            "16 equals 2 * 8.0\n",
            "17 is a prime number\n",
            "18 equals 2 * 9.0\n",
            "19 is a prime number\n"
          ]
        }
      ]
    },
    {
      "cell_type": "markdown",
      "metadata": {
        "id": "GrzDEMX_K0Mh"
      },
      "source": [
        "## 11.2) While"
      ]
    },
    {
      "cell_type": "code",
      "metadata": {
        "colab": {
          "base_uri": "https://localhost:8080/"
        },
        "id": "qevrX6qYm_Y3",
        "outputId": "8b6d5ca0-9b00-47ed-c9ea-c250c3ba303b"
      },
      "source": [
        "#While\n",
        "\n",
        "count = 0\n",
        "while (count < 10):\n",
        "   print(f'The count is: {count}')\n",
        "   count = count + 1"
      ],
      "execution_count": null,
      "outputs": [
        {
          "output_type": "stream",
          "name": "stdout",
          "text": [
            "The count is: 0\n",
            "The count is: 1\n",
            "The count is: 2\n",
            "The count is: 3\n",
            "The count is: 4\n",
            "The count is: 5\n",
            "The count is: 6\n",
            "The count is: 7\n",
            "The count is: 8\n",
            "The count is: 9\n"
          ]
        }
      ]
    },
    {
      "cell_type": "markdown",
      "metadata": {
        "id": "vF7Xg8xYK0Mi"
      },
      "source": [
        "# 12) Bibliocteca Random"
      ]
    },
    {
      "cell_type": "markdown",
      "metadata": {
        "id": "TMyXLlaATyDm"
      },
      "source": [
        "https://docs.python.org/3/library/random.html"
      ]
    },
    {
      "cell_type": "markdown",
      "metadata": {
        "id": "qSD56xUUWq2S"
      },
      "source": [
        "## Gerando números aleatórios"
      ]
    },
    {
      "cell_type": "code",
      "metadata": {
        "colab": {
          "base_uri": "https://localhost:8080/"
        },
        "id": "MolH3Mnxoou6",
        "outputId": "258c83a2-bf64-44d8-ff44-e86cfd9409db"
      },
      "source": [
        "# Random\n",
        "\n",
        "import random\n",
        "\n",
        "# First random number\n",
        "print(f\"random() : { random.random() }\")\n",
        "\n",
        "# Second random number\n",
        "print(f\"random() : {random.random() }\")"
      ],
      "execution_count": null,
      "outputs": [
        {
          "output_type": "stream",
          "name": "stdout",
          "text": [
            "random() : 0.7754591657645635\n",
            "random() : 0.19666772774949848\n"
          ]
        }
      ]
    },
    {
      "cell_type": "markdown",
      "metadata": {
        "id": "sLQanxdfWq2T"
      },
      "source": [
        "## Gerando números aleatórios inteiros dentro de um intervalo"
      ]
    },
    {
      "cell_type": "code",
      "metadata": {
        "colab": {
          "base_uri": "https://localhost:8080/"
        },
        "id": "YvzJmXaJpmIU",
        "outputId": "7283d4ed-72d3-46c0-8b64-ea53906fc28b"
      },
      "source": [
        "# Therd random number\n",
        "print(f\"random() : { random.randint(1,100) }\")"
      ],
      "execution_count": null,
      "outputs": [
        {
          "output_type": "stream",
          "name": "stdout",
          "text": [
            "random() : 61\n"
          ]
        }
      ]
    },
    {
      "cell_type": "markdown",
      "metadata": {
        "id": "-lJIX2mvWq2U"
      },
      "source": [
        "## \"Embaralhando\" elementos de uma lista"
      ]
    },
    {
      "cell_type": "code",
      "metadata": {
        "colab": {
          "base_uri": "https://localhost:8080/"
        },
        "id": "n_S12e85pwT3",
        "outputId": "2504cccd-a6a2-4512-8b05-99b2c3707d9e"
      },
      "source": [
        "list = [20, 16, 10, 5];\n",
        "random.shuffle(list)\n",
        "print(f\"Reshuffled list : {list}\")\n",
        "\n",
        "random.shuffle(list)\n",
        "print(f\"Reshuffled list : {list}\")"
      ],
      "execution_count": null,
      "outputs": [
        {
          "output_type": "stream",
          "name": "stdout",
          "text": [
            "Reshuffled list : [5, 10, 20, 16]\n",
            "Reshuffled list : [20, 10, 5, 16]\n"
          ]
        }
      ]
    },
    {
      "cell_type": "markdown",
      "metadata": {
        "id": "RVTlYBJDWq2U"
      },
      "source": [
        "## Gerando uma lista de números aleatórios não repetidos"
      ]
    },
    {
      "cell_type": "code",
      "metadata": {
        "id": "i0B0p_52Wq2V"
      },
      "source": [
        "#Gere 100 numeros inteiros aleatorios (entre 0 e 1000) nao repetidos \n",
        "\n",
        "# 1. Crie um lista para armazenar os numeros gerados\n",
        "# 2. Gera um numero aleatorio entre 0 e 1000\n",
        "# 3. Checa se o numero gerado já existe na lista\n",
        "#       se não existe insere na lista\n",
        "# Repita os passos anteriores 100 vezes\n",
        "# 4. Mostra a lista gerada"
      ],
      "execution_count": null,
      "outputs": []
    },
    {
      "cell_type": "code",
      "metadata": {
        "id": "X09OeHglWq2V",
        "outputId": "0a74fe41-9d96-4c13-ad1c-8e4946b5d095",
        "colab": {
          "base_uri": "https://localhost:8080/"
        }
      },
      "source": [
        "lista_de_numeros_aleatorios = []\n",
        "\n",
        "for i in range(100): \n",
        "    numero_randomico = random.randint(0, 1000)\n",
        "    if numero_randomico not in lista_de_numeros_aleatorios:\n",
        "        lista_de_numeros_aleatorios.append(numero_randomico)\n",
        "\n",
        "print(f'lista de numeros aleatorios: {lista_de_numeros_aleatorios}')"
      ],
      "execution_count": null,
      "outputs": [
        {
          "output_type": "stream",
          "name": "stdout",
          "text": [
            "lista de numeros aleatorios: [660, 157, 231, 663, 445, 399, 560, 202, 860, 151, 620, 382, 955, 237, 913, 628, 209, 368, 496, 582, 500, 921, 928, 760, 865, 809, 726, 92, 872, 408, 216, 163, 729, 122, 5, 629, 56, 278, 569, 98, 973, 49, 979, 125, 598, 704, 882, 796, 623, 165, 634, 715, 64, 50, 353, 37, 939, 899, 416, 191, 930, 208, 426, 364, 427, 291, 626, 777, 545, 756, 355, 610, 321, 189, 294, 111, 501, 459, 227, 743, 85, 806, 406, 241, 326, 952, 260, 579, 357, 992, 155, 900, 647, 78]\n"
          ]
        }
      ]
    },
    {
      "cell_type": "markdown",
      "metadata": {
        "id": "V-bMtnieK0Mj"
      },
      "source": [
        "# 13) Input"
      ]
    },
    {
      "cell_type": "markdown",
      "metadata": {
        "id": "YzQv3H3oUJSB"
      },
      "source": [
        "https://docs.python.org/3/library/functions.html#input"
      ]
    },
    {
      "cell_type": "markdown",
      "metadata": {
        "id": "boxoTHMqWq2h"
      },
      "source": [
        "## Entrada de dados do tipo string"
      ]
    },
    {
      "cell_type": "code",
      "metadata": {
        "id": "mtnixjfDWq2h",
        "outputId": "19b9cfee-d289-4e70-ce60-dd7ee08f73c8",
        "colab": {
          "base_uri": "https://localhost:8080/"
        }
      },
      "source": [
        "opcao = input('Digite sua opcao: y/n: ')\n",
        "\n",
        "if opcao.upper() == 'Y':\n",
        "    print('Você escolheu a opcao y')\n",
        "else:\n",
        "    if opcao.upper() == 'N':\n",
        "        print('Você escolheu a opcao n')\n",
        "    else: \n",
        "        print('Opcao invalida!')"
      ],
      "execution_count": null,
      "outputs": [
        {
          "output_type": "stream",
          "name": "stdout",
          "text": [
            "Digite sua opcao: y/n: y\n",
            "Você escolheu a opcao y\n"
          ]
        }
      ]
    },
    {
      "cell_type": "markdown",
      "metadata": {
        "id": "n3UPxNIxWq2h"
      },
      "source": [
        "## Entrada de dados do tipo inteiro"
      ]
    },
    {
      "cell_type": "code",
      "metadata": {
        "colab": {
          "base_uri": "https://localhost:8080/"
        },
        "id": "E23y2QfRrBSD",
        "outputId": "c0c9be90-9991-4d42-9d76-30e48abac4fc"
      },
      "source": [
        "valor = input('Digite um número inteiro')\n",
        "try:\n",
        "    n = int(valor)\n",
        "    print(f'O número {n} é válido!')\n",
        "except Exception as e:\n",
        "    print(f'Valor inválido! - {e}')\n"
      ],
      "execution_count": null,
      "outputs": [
        {
          "output_type": "stream",
          "name": "stdout",
          "text": [
            "Digite um número inteiro10\n",
            "O número 10 é válido!\n"
          ]
        }
      ]
    },
    {
      "cell_type": "markdown",
      "metadata": {
        "id": "eJPzIfqUWq2i"
      },
      "source": [
        "## Entrada de dados do tipo float"
      ]
    },
    {
      "cell_type": "code",
      "metadata": {
        "colab": {
          "base_uri": "https://localhost:8080/"
        },
        "id": "puje6ZuUdu4E",
        "outputId": "4eee0891-3f11-4850-c50f-d5ea180d365b"
      },
      "source": [
        "valor = input('Digite um número qualquer')\n",
        "\n",
        "try: \n",
        "    n = float(valor)\n",
        "    print(f'O número {n} é válido!')\n",
        "except Exception as e: \n",
        "    print(f'Número inválido! {e}')"
      ],
      "execution_count": null,
      "outputs": [
        {
          "output_type": "stream",
          "name": "stdout",
          "text": [
            "Digite um número qualquer10\n",
            "O número 10.0 é válido!\n"
          ]
        }
      ]
    },
    {
      "cell_type": "code",
      "metadata": {
        "colab": {
          "base_uri": "https://localhost:8080/"
        },
        "id": "otfz65iGdyws",
        "outputId": "248df017-2642-42bb-e7d1-40a9c8d2d704"
      },
      "source": [
        "para_str = \"\"\"this is a long string that is made up of\n",
        "several lines and non-printable characters such as\n",
        "TAB ( \\t ) and they will show up that way when displayed.\n",
        "NEWLINEs within the string, whether explicitly given like\n",
        "this within the brackets [ \\n ], or just a NEWLINE within\n",
        "the variable assignment will also show up.\n",
        "\"\"\"\n",
        "print(para_str)"
      ],
      "execution_count": null,
      "outputs": [
        {
          "output_type": "stream",
          "name": "stdout",
          "text": [
            "this is a long string that is made up of\n",
            "several lines and non-printable characters such as\n",
            "TAB ( \t ) and they will show up that way when displayed.\n",
            "NEWLINEs within the string, whether explicitly given like\n",
            "this within the brackets [ \n",
            " ], or just a NEWLINE within\n",
            "the variable assignment will also show up.\n",
            "\n"
          ]
        }
      ]
    },
    {
      "cell_type": "markdown",
      "metadata": {
        "id": "bR9JXYO5K0Mo"
      },
      "source": [
        "# 14) Manipulando tempo e data"
      ]
    },
    {
      "cell_type": "markdown",
      "metadata": {
        "id": "BhLrcjz5Ufei"
      },
      "source": [
        "https://docs.python.org/3/library/time.html"
      ]
    },
    {
      "cell_type": "markdown",
      "metadata": {
        "id": "9_N8ZLdRWq2k"
      },
      "source": [
        "## Módulo time"
      ]
    },
    {
      "cell_type": "code",
      "metadata": {
        "colab": {
          "base_uri": "https://localhost:8080/"
        },
        "id": "Rg9fmnqdgfQB",
        "outputId": "9c1514dd-92c9-4e04-85e5-fd96a35aedb5"
      },
      "source": [
        "import time;  # This is required to include time module.\n",
        "\n",
        "ticks = time.time()\n",
        "print(f\"Number of ticks since 12:00am, January 1, 1970: {ticks}\")"
      ],
      "execution_count": null,
      "outputs": [
        {
          "output_type": "stream",
          "name": "stdout",
          "text": [
            "Number of ticks since 12:00am, January 1, 1970: 1646251111.4069092\n"
          ]
        }
      ]
    },
    {
      "cell_type": "code",
      "metadata": {
        "colab": {
          "base_uri": "https://localhost:8080/"
        },
        "id": "Bge2Im3Atg2t",
        "outputId": "130842fa-ac8d-426b-faa9-62a29ddcf523"
      },
      "source": [
        "localtime = time.localtime(time.time())\n",
        "print(f\"Local current time : {localtime}\")"
      ],
      "execution_count": null,
      "outputs": [
        {
          "output_type": "stream",
          "name": "stdout",
          "text": [
            "Local current time : time.struct_time(tm_year=2022, tm_mon=3, tm_mday=2, tm_hour=19, tm_min=58, tm_sec=31, tm_wday=2, tm_yday=61, tm_isdst=0)\n"
          ]
        }
      ]
    },
    {
      "cell_type": "markdown",
      "metadata": {
        "id": "xPl5M2FSWq2m"
      },
      "source": [
        "## Módulo datetime"
      ]
    },
    {
      "cell_type": "markdown",
      "metadata": {
        "id": "AAjiQZXqmsCw"
      },
      "source": [
        "https://docs.python.org/3/library/datetime.html"
      ]
    },
    {
      "cell_type": "markdown",
      "metadata": {
        "id": "YSF56i5zWq2m"
      },
      "source": [
        "## O método now()"
      ]
    },
    {
      "cell_type": "code",
      "metadata": {
        "id": "knkAZrkru8iy",
        "colab": {
          "base_uri": "https://localhost:8080/"
        },
        "outputId": "c764d8df-8773-428c-f850-3565e6f99951"
      },
      "source": [
        "import datetime\n",
        "agora = datetime.datetime.now()\n",
        "\n",
        "print(f'Data e hora atual: {agora}')"
      ],
      "execution_count": null,
      "outputs": [
        {
          "output_type": "stream",
          "name": "stdout",
          "text": [
            "Data e hora atual: 2022-03-02 19:58:31.435074\n"
          ]
        }
      ]
    },
    {
      "cell_type": "code",
      "metadata": {
        "colab": {
          "base_uri": "https://localhost:8080/"
        },
        "id": "VO61cr_oK0Mq",
        "outputId": "5778e0a6-0934-4dc6-cb13-eb1929de2719"
      },
      "source": [
        "print(f'Ano atual: {agora.year}')"
      ],
      "execution_count": null,
      "outputs": [
        {
          "output_type": "stream",
          "name": "stdout",
          "text": [
            "Ano atual: 2022\n"
          ]
        }
      ]
    },
    {
      "cell_type": "markdown",
      "metadata": {
        "id": "FzZntNd7Wq2n"
      },
      "source": [
        "## A classe date"
      ]
    },
    {
      "cell_type": "code",
      "metadata": {
        "id": "LKW5dxs3Wq2o",
        "outputId": "95834997-13ca-4cca-e8ab-485e0e23112c",
        "colab": {
          "base_uri": "https://localhost:8080/"
        }
      },
      "source": [
        "agora1 = datetime.datetime.now()\n",
        "for i in range(10):\n",
        "    print(i)\n",
        "agora2 = datetime.datetime.now()\n",
        "delta_time = agora2 - agora1\n",
        "print(f'delta: {delta_time}')"
      ],
      "execution_count": null,
      "outputs": [
        {
          "output_type": "stream",
          "name": "stdout",
          "text": [
            "0\n",
            "1\n",
            "2\n",
            "3\n",
            "4\n",
            "5\n",
            "6\n",
            "7\n",
            "8\n",
            "9\n",
            "delta: 0:00:00.006841\n"
          ]
        }
      ]
    },
    {
      "cell_type": "code",
      "metadata": {
        "id": "qmw__-0PWq2p",
        "outputId": "c84857ca-c5e8-42da-8d35-5b7c2bda27e6",
        "colab": {
          "base_uri": "https://localhost:8080/"
        }
      },
      "source": [
        "from datetime import date\n",
        "\n",
        "data_atual = date.today()\n",
        "\n",
        "print(f'Data atual: {data_atual}')"
      ],
      "execution_count": null,
      "outputs": [
        {
          "output_type": "stream",
          "name": "stdout",
          "text": [
            "Data atual: 2022-03-02\n"
          ]
        }
      ]
    },
    {
      "cell_type": "markdown",
      "metadata": {
        "id": "uYeniEQtWq2q"
      },
      "source": [
        "## Formatando a data com o strftime"
      ]
    },
    {
      "cell_type": "code",
      "metadata": {
        "id": "qr-kxI6_Wq2q",
        "outputId": "9211ba22-8ad0-4341-bdc7-92c527c0866e",
        "colab": {
          "base_uri": "https://localhost:8080/"
        }
      },
      "source": [
        "print(f'Data e Hora formatada: { agora.strftime(\"%Y-%m-%d %H:%M:%S\") }')\n",
        "print(f'Data e Hora formatada: { agora.strftime(\"%d/%m/%Y %H:%M:%S\") }')"
      ],
      "execution_count": null,
      "outputs": [
        {
          "output_type": "stream",
          "name": "stdout",
          "text": [
            "Data e Hora formatada: 2022-03-02 19:58:31\n",
            "Data e Hora formatada: 02/03/2022 19:58:31\n"
          ]
        }
      ]
    },
    {
      "cell_type": "code",
      "metadata": {
        "id": "pTkHGHhxWq2r",
        "outputId": "f0e8dd50-a54f-436f-bbfa-e96cb9e2a810",
        "colab": {
          "base_uri": "https://localhost:8080/"
        }
      },
      "source": [
        "data_atual_formatada = data_atual.strftime('%d/%m/%Y')\n",
        "print(f'Data atual formatada: {data_atual_formatada}')"
      ],
      "execution_count": null,
      "outputs": [
        {
          "output_type": "stream",
          "name": "stdout",
          "text": [
            "Data atual formatada: 02/03/2022\n"
          ]
        }
      ]
    },
    {
      "cell_type": "markdown",
      "metadata": {
        "id": "ZsrkF-xIWq2r"
      },
      "source": [
        "## Convertendo uma string em datetime"
      ]
    },
    {
      "cell_type": "code",
      "metadata": {
        "id": "y9HkiK7cWq2r",
        "outputId": "071fcc6b-c9fc-4ca7-ce37-86447636fbf5",
        "colab": {
          "base_uri": "https://localhost:8080/"
        }
      },
      "source": [
        "from datetime import datetime\n",
        "\n",
        "data_e_hora_em_texto = '01/03/2018 12:30'\n",
        "data_e_hora = datetime.strptime(data_e_hora_em_texto, '%d/%m/%Y %H:%M')\n",
        "print(type(data_e_hora))"
      ],
      "execution_count": null,
      "outputs": [
        {
          "output_type": "stream",
          "name": "stdout",
          "text": [
            "<class 'datetime.datetime'>\n"
          ]
        }
      ]
    },
    {
      "cell_type": "markdown",
      "metadata": {
        "id": "OatuqfcaWq2s"
      },
      "source": [
        "## Módulo calendar"
      ]
    },
    {
      "cell_type": "markdown",
      "metadata": {
        "id": "AoUOS4NfUqwY"
      },
      "source": [
        "https://docs.python.org/3/library/calendar.html"
      ]
    },
    {
      "cell_type": "code",
      "metadata": {
        "colab": {
          "base_uri": "https://localhost:8080/"
        },
        "id": "xJUS9cAAvVRO",
        "outputId": "1e5a680c-6242-48a6-9203-ea08b4ac3857"
      },
      "source": [
        "import calendar\n",
        "\n",
        "cal = calendar.month(2021, 10)\n",
        "print(f\"Here is the calendar: {cal}\")"
      ],
      "execution_count": null,
      "outputs": [
        {
          "output_type": "stream",
          "name": "stdout",
          "text": [
            "Here is the calendar:     October 2021\n",
            "Mo Tu We Th Fr Sa Su\n",
            "             1  2  3\n",
            " 4  5  6  7  8  9 10\n",
            "11 12 13 14 15 16 17\n",
            "18 19 20 21 22 23 24\n",
            "25 26 27 28 29 30 31\n",
            "\n"
          ]
        }
      ]
    },
    {
      "cell_type": "code",
      "metadata": {
        "colab": {
          "base_uri": "https://localhost:8080/"
        },
        "id": "ler19O4bK0Mr",
        "outputId": "25f1cb47-b1d0-4fb1-8c44-424a74b80d8a"
      },
      "source": [
        "cal_html = calendar.HTMLCalendar()\n",
        "\n",
        "print( cal_html.formatmonth(2021, 10) )"
      ],
      "execution_count": null,
      "outputs": [
        {
          "output_type": "stream",
          "name": "stdout",
          "text": [
            "<table border=\"0\" cellpadding=\"0\" cellspacing=\"0\" class=\"month\">\n",
            "<tr><th colspan=\"7\" class=\"month\">October 2021</th></tr>\n",
            "<tr><th class=\"mon\">Mon</th><th class=\"tue\">Tue</th><th class=\"wed\">Wed</th><th class=\"thu\">Thu</th><th class=\"fri\">Fri</th><th class=\"sat\">Sat</th><th class=\"sun\">Sun</th></tr>\n",
            "<tr><td class=\"noday\">&nbsp;</td><td class=\"noday\">&nbsp;</td><td class=\"noday\">&nbsp;</td><td class=\"noday\">&nbsp;</td><td class=\"fri\">1</td><td class=\"sat\">2</td><td class=\"sun\">3</td></tr>\n",
            "<tr><td class=\"mon\">4</td><td class=\"tue\">5</td><td class=\"wed\">6</td><td class=\"thu\">7</td><td class=\"fri\">8</td><td class=\"sat\">9</td><td class=\"sun\">10</td></tr>\n",
            "<tr><td class=\"mon\">11</td><td class=\"tue\">12</td><td class=\"wed\">13</td><td class=\"thu\">14</td><td class=\"fri\">15</td><td class=\"sat\">16</td><td class=\"sun\">17</td></tr>\n",
            "<tr><td class=\"mon\">18</td><td class=\"tue\">19</td><td class=\"wed\">20</td><td class=\"thu\">21</td><td class=\"fri\">22</td><td class=\"sat\">23</td><td class=\"sun\">24</td></tr>\n",
            "<tr><td class=\"mon\">25</td><td class=\"tue\">26</td><td class=\"wed\">27</td><td class=\"thu\">28</td><td class=\"fri\">29</td><td class=\"sat\">30</td><td class=\"sun\">31</td></tr>\n",
            "</table>\n",
            "\n"
          ]
        }
      ]
    },
    {
      "cell_type": "markdown",
      "metadata": {
        "id": "qpsYOdC8K0Ms"
      },
      "source": [
        "# 15) Funcoes"
      ]
    },
    {
      "cell_type": "markdown",
      "metadata": {
        "id": "CC3Bo0skU1dJ"
      },
      "source": [
        "https://docs.python.org/3/tutorial/controlflow.html#defining-functions"
      ]
    },
    {
      "cell_type": "markdown",
      "metadata": {
        "id": "O6fABvY4Wq2w"
      },
      "source": [
        "## Definição simples de funções"
      ]
    },
    {
      "cell_type": "code",
      "metadata": {
        "id": "LHcuMPmYw0kp"
      },
      "source": [
        "# funcoes\n",
        "\n",
        "def soma(a, b):\n",
        "  return a+b\n",
        "\n",
        "def multiplica(a,b):\n",
        "  return a*b\n",
        "\n",
        "def subtrai(a,b):\n",
        "  return a-b"
      ],
      "execution_count": null,
      "outputs": []
    },
    {
      "cell_type": "code",
      "metadata": {
        "colab": {
          "base_uri": "https://localhost:8080/"
        },
        "id": "8McRSpqdybjQ",
        "outputId": "6203a91d-a2c6-45c3-9a25-9988e4d645b0"
      },
      "source": [
        "v1 = soma(10,11)\n",
        "v2 = multiplica(10,11)\n",
        "v3 = subtrai(10,11)\n",
        "\n",
        "print(f'v1: {v1}, v2: {v2}, v3: {v3}')"
      ],
      "execution_count": null,
      "outputs": [
        {
          "output_type": "stream",
          "name": "stdout",
          "text": [
            "v1: 21, v2: 110, v3: -1\n"
          ]
        }
      ]
    },
    {
      "cell_type": "markdown",
      "metadata": {
        "id": "i9YJuulJWq2x"
      },
      "source": [
        "## Definição de função com parâmetros variáveis"
      ]
    },
    {
      "cell_type": "code",
      "metadata": {
        "id": "0YGJ0qVBye0Y"
      },
      "source": [
        "# quantidade variavel de argumentos\n",
        "# Function definition is here\n",
        "def printinfo( arg1, *vartuple ):\n",
        "   \"This prints a variable passed arguments\"\n",
        "   print(\"Output is: \")\n",
        "   print(arg1)\n",
        "   for var in vartuple:\n",
        "      print(var)\n",
        "   return;"
      ],
      "execution_count": null,
      "outputs": []
    },
    {
      "cell_type": "code",
      "metadata": {
        "colab": {
          "base_uri": "https://localhost:8080/"
        },
        "id": "ubGU3tAbzLm2",
        "outputId": "36704104-1876-482b-d0e5-9288b332e708"
      },
      "source": [
        "printinfo(5)"
      ],
      "execution_count": null,
      "outputs": [
        {
          "output_type": "stream",
          "name": "stdout",
          "text": [
            "Output is: \n",
            "5\n"
          ]
        }
      ]
    },
    {
      "cell_type": "code",
      "metadata": {
        "colab": {
          "base_uri": "https://localhost:8080/"
        },
        "id": "Ps723asSzP5O",
        "outputId": "3522dea6-8420-483f-e7a0-daacbe515b69"
      },
      "source": [
        "printinfo(5,4,3)"
      ],
      "execution_count": null,
      "outputs": [
        {
          "output_type": "stream",
          "name": "stdout",
          "text": [
            "Output is: \n",
            "5\n",
            "4\n",
            "3\n"
          ]
        }
      ]
    },
    {
      "cell_type": "code",
      "metadata": {
        "id": "F5Nhm0ooWq2y",
        "outputId": "f63320ba-3bf0-4a66-e89a-fc56a283bbb0",
        "colab": {
          "base_uri": "https://localhost:8080/"
        }
      },
      "source": [
        "printinfo(3,4,5,6)"
      ],
      "execution_count": null,
      "outputs": [
        {
          "output_type": "stream",
          "name": "stdout",
          "text": [
            "Output is: \n",
            "3\n",
            "4\n",
            "5\n",
            "6\n"
          ]
        }
      ]
    },
    {
      "cell_type": "markdown",
      "metadata": {
        "id": "L43Dqr4bWq2z"
      },
      "source": [
        "## Função lambda"
      ]
    },
    {
      "cell_type": "markdown",
      "metadata": {
        "id": "YSFShi-cU9f2"
      },
      "source": [
        "https://docs.python.org/3/tutorial/controlflow.html#lambda-expressions"
      ]
    },
    {
      "cell_type": "code",
      "metadata": {
        "id": "OirOVa6azTN_"
      },
      "source": [
        "# Funções anônimas\n",
        "\n",
        "# Function definition is here\n",
        "sum = lambda x, y: x+y;\n",
        "sum3 = lambda x,y,z : x+y+z\n",
        "prod4 = lambda x,y,z,w : x*y*z*w"
      ],
      "execution_count": null,
      "outputs": []
    },
    {
      "cell_type": "code",
      "metadata": {
        "id": "nCfv9DnuWq20"
      },
      "source": [
        "def produto(x, y, z, w): \n",
        "    return x*y*z*w"
      ],
      "execution_count": null,
      "outputs": []
    },
    {
      "cell_type": "code",
      "metadata": {
        "id": "w7x-tGS_Wq20"
      },
      "source": [
        "testeproduto = lambda x,y,z,w : produto(x,y,z,w)"
      ],
      "execution_count": null,
      "outputs": []
    },
    {
      "cell_type": "code",
      "metadata": {
        "id": "gMH002CpWq20",
        "outputId": "7c305150-ba0e-472b-8012-314d575b404a",
        "colab": {
          "base_uri": "https://localhost:8080/"
        }
      },
      "source": [
        "print(f'Teste produto 1,2,3,4: {testeproduto(1,2,3,4)}')"
      ],
      "execution_count": null,
      "outputs": [
        {
          "output_type": "stream",
          "name": "stdout",
          "text": [
            "Teste produto 1,2,3,4: 24\n"
          ]
        }
      ]
    },
    {
      "cell_type": "code",
      "metadata": {
        "id": "MyhBRDpaWq21",
        "outputId": "d267f098-e029-4463-cb99-4ce27e58605f",
        "colab": {
          "base_uri": "https://localhost:8080/"
        }
      },
      "source": [
        "# Now you can call sum as a function\n",
        "print(f\"Value of total : { sum( 10, 20 ) }\")\n",
        "print(f\"Value of total : { sum3( 10, 20, 30 ) }\")\n",
        "print(f'Valor do produto : { prod4(10, 20, 30, 40)}')"
      ],
      "execution_count": null,
      "outputs": [
        {
          "output_type": "stream",
          "name": "stdout",
          "text": [
            "Value of total : 30\n",
            "Value of total : 60\n",
            "Valor do produto : 240000\n"
          ]
        }
      ]
    },
    {
      "cell_type": "markdown",
      "metadata": {
        "id": "h8iUmsicK0Mx"
      },
      "source": [
        "# 16) Modulo Requests"
      ]
    },
    {
      "cell_type": "markdown",
      "metadata": {
        "id": "2XnD26XmWq21"
      },
      "source": [
        "## Requests and Response"
      ]
    },
    {
      "cell_type": "markdown",
      "metadata": {
        "id": "FwikzzMkWT74"
      },
      "source": [
        "https://docs.python-requests.org/en/latest/"
      ]
    },
    {
      "cell_type": "markdown",
      "metadata": {
        "id": "CzpHk3ekWq22"
      },
      "source": [
        "## Instalando um módulo via notebook jupter"
      ]
    },
    {
      "cell_type": "markdown",
      "metadata": {
        "id": "l_ffTIK3oRO0"
      },
      "source": [
        "Pip (package manager) https://en.wikipedia.org/wiki/Pip_(package_manager)"
      ]
    },
    {
      "cell_type": "code",
      "metadata": {
        "colab": {
          "base_uri": "https://localhost:8080/"
        },
        "id": "djEw7Np3WzjG",
        "outputId": "49f4c893-3266-4bfc-86b4-9768b3f58816"
      },
      "source": [
        "!pip install requests"
      ],
      "execution_count": null,
      "outputs": [
        {
          "output_type": "stream",
          "name": "stdout",
          "text": [
            "Requirement already satisfied: requests in /usr/local/lib/python3.7/dist-packages (2.23.0)\n",
            "Requirement already satisfied: idna<3,>=2.5 in /usr/local/lib/python3.7/dist-packages (from requests) (2.10)\n",
            "Requirement already satisfied: urllib3!=1.25.0,!=1.25.1,<1.26,>=1.21.1 in /usr/local/lib/python3.7/dist-packages (from requests) (1.24.3)\n",
            "Requirement already satisfied: certifi>=2017.4.17 in /usr/local/lib/python3.7/dist-packages (from requests) (2021.10.8)\n",
            "Requirement already satisfied: chardet<4,>=3.0.2 in /usr/local/lib/python3.7/dist-packages (from requests) (3.0.4)\n"
          ]
        }
      ]
    },
    {
      "cell_type": "markdown",
      "metadata": {
        "id": "L7DG5sL-Wq25"
      },
      "source": [
        "## Acessando o conteúdo de uma página web"
      ]
    },
    {
      "cell_type": "code",
      "metadata": {
        "colab": {
          "base_uri": "https://localhost:8080/"
        },
        "id": "pGy0vJ3qK0Mx",
        "outputId": "522620b8-ff53-4d49-fa85-1477cab32191"
      },
      "source": [
        "import requests\n",
        "\n",
        "url_google = 'https://www.google.com'\n",
        "site_google = requests.get(url_google)\n",
        "\n",
        "print(f'url_google: {url_google} ')\n",
        "print(site_google.text)"
      ],
      "execution_count": null,
      "outputs": [
        {
          "output_type": "stream",
          "name": "stdout",
          "text": [
            "url_google: https://www.google.com \n",
            "<!doctype html><html itemscope=\"\" itemtype=\"http://schema.org/WebPage\" lang=\"en\"><head><meta content=\"Search the world's information, including webpages, images, videos and more. Google has many special features to help you find exactly what you're looking for.\" name=\"description\"><meta content=\"noodp\" name=\"robots\"><meta content=\"text/html; charset=UTF-8\" http-equiv=\"Content-Type\"><meta content=\"/images/branding/googleg/1x/googleg_standard_color_128dp.png\" itemprop=\"image\"><title>Google</title><script nonce=\"gsV2ToAUGYL2ujNfL2cCww==\">(function(){window.google={kEI:'bMwfYuWtIsGWwbkPxKKdKA',kEXPI:'0,1302536,56873,6059,206,4804,2316,383,246,5,1354,4013,923,314,1122516,1197712,689,21,380069,16111,17447,11240,17572,4859,1361,9290,3029,4746,12834,4020,978,13228,3847,4200,6422,22741,5081,1593,1279,2742,149,1103,840,1983,4314,108,3406,606,2023,1777,520,14670,3227,2845,7,5599,11851,16320,1851,15324,432,3,1590,1,5444,149,11323,991,1661,4,1528,2304,6463,576,22023,3050,2658,7356,31,13628,2980,1457,15351,1435,651,5179,2527,4097,4049,3,3541,1,14711,2096,21582,3765,2,14022,1931,442,342,255,2993,1557,744,5852,10463,1160,5679,1020,2380,2719,8595,7953,1731,1,8,7735,4568,6256,6726,1,10722,5972,1252,5835,14968,1538,2794,2204,2083,390,1412,1395,445,2,2,1,6395,4394,1710,4813,9,4125,2292,2,886,1559,10,1,436,288,759,6797,311,113,625,5,1823,2558,5,508,945,568,230,1,2,3,8,116,58,2,1520,1334,3550,904,3395,880,1042,847,948,71,255,178,574,880,311,5143,14,65,286,88,1188,563,1,865,214,137,1,8,1017,85,4,772,762,3,1,773,36,1153,1538,2329,163,81,193,352,3,255,2,1218,390,125,1350,111,238,178,124,468,263,29,816,264,85,20,462,172,439,238,328,3,1,53,235,39,54,1360,4,1,340,395,738,552,18,800,5469964,859,8797152,882,444,3,1877,1,2562,1,748,141,795,563,1,4265,1,1,2,1331,4142,2609,155,17,13,72,139,4,2,20,2,169,13,19,46,5,39,96,548,29,2,2,1,2,1,2,2,7,4,1,2,2,2,2,2,2,353,513,186,1,1,158,3,2,2,2,2,2,4,2,3,3,269,1601,141,576,328,56,3,2,36,1,2,1,1,53,20731902,3220019,2862027,1179663,3,450,3455,9,1435,159,1358,4726,3,923,32,3,1209,6,910,1378,1120,415,2026,416,566,875226',kBL:'nojI'};google.sn='webhp';google.kHL='en';})();(function(){\n",
            "var f=this||self;var h,k=[];function l(a){for(var b;a&&(!a.getAttribute||!(b=a.getAttribute(\"eid\")));)a=a.parentNode;return b||h}function m(a){for(var b=null;a&&(!a.getAttribute||!(b=a.getAttribute(\"leid\")));)a=a.parentNode;return b}\n",
            "function n(a,b,c,d,g){var e=\"\";c||-1!==b.search(\"&ei=\")||(e=\"&ei=\"+l(d),-1===b.search(\"&lei=\")&&(d=m(d))&&(e+=\"&lei=\"+d));d=\"\";!c&&f._cshid&&-1===b.search(\"&cshid=\")&&\"slh\"!==a&&(d=\"&cshid=\"+f._cshid);c=c||\"/\"+(g||\"gen_204\")+\"?atyp=i&ct=\"+a+\"&cad=\"+b+e+\"&zx=\"+Date.now()+d;/^http:/i.test(c)&&\"https:\"===window.location.protocol&&(google.ml&&google.ml(Error(\"a\"),!1,{src:c,glmm:1}),c=\"\");return c};h=google.kEI;google.getEI=l;google.getLEI=m;google.ml=function(){return null};google.log=function(a,b,c,d,g){if(c=n(a,b,c,d,g)){a=new Image;var e=k.length;k[e]=a;a.onerror=a.onload=a.onabort=function(){delete k[e]};a.src=c}};google.logUrl=n;}).call(this);(function(){\n",
            "google.y={};google.sy=[];google.x=function(a,b){if(a)var c=a.id;else{do c=Math.random();while(google.y[c])}google.y[c]=[a,b];return!1};google.sx=function(a){google.sy.push(a)};google.lm=[];google.plm=function(a){google.lm.push.apply(google.lm,a)};google.lq=[];google.load=function(a,b,c){google.lq.push([[a],b,c])};google.loadAll=function(a,b){google.lq.push([a,b])};google.bx=!1;google.lx=function(){};}).call(this);google.f={};(function(){\n",
            "document.documentElement.addEventListener(\"submit\",function(b){var a;if(a=b.target){var c=a.getAttribute(\"data-submitfalse\");a=\"1\"===c||\"q\"===c&&!a.elements.q.value?!0:!1}else a=!1;a&&(b.preventDefault(),b.stopPropagation())},!0);document.documentElement.addEventListener(\"click\",function(b){var a;a:{for(a=b.target;a&&a!==document.documentElement;a=a.parentElement)if(\"A\"===a.tagName){a=\"1\"===a.getAttribute(\"data-nohref\");break a}a=!1}a&&b.preventDefault()},!0);}).call(this);</script><style>#gbar,#guser{font-size:13px;padding-top:1px !important;}#gbar{height:22px}#guser{padding-bottom:7px !important;text-align:right}.gbh,.gbd{border-top:1px solid #c9d7f1;font-size:1px}.gbh{height:0;position:absolute;top:24px;width:100%}@media all{.gb1{height:22px;margin-right:.5em;vertical-align:top}#gbar{float:left}}a.gb1,a.gb4{text-decoration:underline !important}a.gb1,a.gb4{color:#00c !important}.gbi .gb4{color:#dd8e27 !important}.gbf .gb4{color:#900 !important}\n",
            "</style><style>body,td,a,p,.h{font-family:arial,sans-serif}body{margin:0;overflow-y:scroll}#gog{padding:3px 8px 0}td{line-height:.8em}.gac_m td{line-height:17px}form{margin-bottom:20px}.h{color:#1558d6}em{font-weight:bold;font-style:normal}.lst{height:25px;width:496px}.gsfi,.lst{font:18px arial,sans-serif}.gsfs{font:17px arial,sans-serif}.ds{display:inline-box;display:inline-block;margin:3px 0 4px;margin-left:4px}input{font-family:inherit}body{background:#fff;color:#000}a{color:#4b11a8;text-decoration:none}a:hover,a:active{text-decoration:underline}.fl a{color:#1558d6}a:visited{color:#4b11a8}.sblc{padding-top:5px}.sblc a{display:block;margin:2px 0;margin-left:13px;font-size:11px}.lsbb{background:#f8f9fa;border:solid 1px;border-color:#dadce0 #70757a #70757a #dadce0;height:30px}.lsbb{display:block}#WqQANb a{display:inline-block;margin:0 12px}.lsb{background:url(/images/nav_logo229.png) 0 -261px repeat-x;border:none;color:#000;cursor:pointer;height:30px;margin:0;outline:0;font:15px arial,sans-serif;vertical-align:top}.lsb:active{background:#dadce0}.lst:focus{outline:none}</style><script nonce=\"gsV2ToAUGYL2ujNfL2cCww==\">(function(){window.google.erd={jsr:1,bv:1539,de:true};\n",
            "var f=this||self;var g,h,k=null!==(g=f.mei)&&void 0!==g?g:1,l=null!==(h=f.sdo)&&void 0!==h?h:!0,p=0,q,r=google.erd,u=r.jsr;google.ml=function(a,b,d,m,c){c=void 0===c?2:c;b&&(q=a&&a.message);if(google.dl)return google.dl(a,c,d),null;if(0>u){window.console&&console.error(a,d);if(-2===u)throw a;b=!1}else b=!a||!a.message||\"Error loading script\"===a.message||p>=k&&!m?!1:!0;if(!b)return null;p++;d=d||{};var e=c;c=encodeURIComponent;b=\"/gen_204?atyp=i&ei=\"+c(google.kEI);google.kEXPI&&(b+=\"&jexpid=\"+c(google.kEXPI));b+=\"&srcpg=\"+c(google.sn)+\"&jsr=\"+c(r.jsr)+\"&bver=\"+c(r.bv)+(\"&jsel=\"+e);e=a.lineNumber;void 0!==e&&(b+=\"&line=\"+\n",
            "e);var n=a.fileName;n&&(b+=\"&script=\"+c(n),e&&n===window.location.href&&(e=document.documentElement.outerHTML.split(\"\\n\")[e],b+=\"&cad=\"+c(e?e.substring(0,300):\"No script found.\")));for(var t in d)b+=\"&\",b+=c(t),b+=\"=\",b+=c(d[t]);b=b+\"&emsg=\"+c(a.name+\": \"+a.message);b=b+\"&jsst=\"+c(a.stack||\"N/A\");12288<=b.length&&(b=b.substr(0,12288));a=b;m||google.log(0,\"\",a);return a};window.onerror=function(a,b,d,m,c){q!==a&&(a=c instanceof Error?c:Error(a),void 0===d||\"lineNumber\"in a||(a.lineNumber=d),void 0===b||\"fileName\"in a||(a.fileName=b),google.ml(a,!1,void 0,!1,\"SyntaxError\"===a.name||\"SyntaxError\"===a.message.substring(0,11)?2:0));q=null;l&&p>=k&&(window.onerror=null)};})();</script></head><body bgcolor=\"#fff\"><script nonce=\"gsV2ToAUGYL2ujNfL2cCww==\">(function(){var src='/images/nav_logo229.png';var iesg=false;document.body.onload = function(){window.n && window.n();if (document.images){new Image().src=src;}\n",
            "if (!iesg){document.f&&document.f.q.focus();document.gbqf&&document.gbqf.q.focus();}\n",
            "}\n",
            "})();</script><div id=\"mngb\"><div id=gbar><nobr><b class=gb1>Search</b> <a class=gb1 href=\"https://www.google.com/imghp?hl=en&tab=wi\">Images</a> <a class=gb1 href=\"https://maps.google.com/maps?hl=en&tab=wl\">Maps</a> <a class=gb1 href=\"https://play.google.com/?hl=en&tab=w8\">Play</a> <a class=gb1 href=\"https://www.youtube.com/?gl=US&tab=w1\">YouTube</a> <a class=gb1 href=\"https://news.google.com/?tab=wn\">News</a> <a class=gb1 href=\"https://mail.google.com/mail/?tab=wm\">Gmail</a> <a class=gb1 href=\"https://drive.google.com/?tab=wo\">Drive</a> <a class=gb1 style=\"text-decoration:none\" href=\"https://www.google.com/intl/en/about/products?tab=wh\"><u>More</u> &raquo;</a></nobr></div><div id=guser width=100%><nobr><span id=gbn class=gbi></span><span id=gbf class=gbf></span><span id=gbe></span><a href=\"http://www.google.com/history/optout?hl=en\" class=gb4>Web History</a> | <a  href=\"/preferences?hl=en\" class=gb4>Settings</a> | <a target=_top id=gb_70 href=\"https://accounts.google.com/ServiceLogin?hl=en&passive=true&continue=https://www.google.com/&ec=GAZAAQ\" class=gb4>Sign in</a></nobr></div><div class=gbh style=left:0></div><div class=gbh style=right:0></div></div><center><br clear=\"all\" id=\"lgpd\"><div id=\"lga\"><img alt=\"Google\" height=\"92\" src=\"/images/branding/googlelogo/1x/googlelogo_white_background_color_272x92dp.png\" style=\"padding:28px 0 14px\" width=\"272\" id=\"hplogo\"><br><br></div><form action=\"/search\" name=\"f\"><table cellpadding=\"0\" cellspacing=\"0\"><tr valign=\"top\"><td width=\"25%\">&nbsp;</td><td align=\"center\" nowrap=\"\"><input name=\"ie\" value=\"ISO-8859-1\" type=\"hidden\"><input value=\"en\" name=\"hl\" type=\"hidden\"><input name=\"source\" type=\"hidden\" value=\"hp\"><input name=\"biw\" type=\"hidden\"><input name=\"bih\" type=\"hidden\"><div class=\"ds\" style=\"height:32px;margin:4px 0\"><input class=\"lst\" style=\"margin:0;padding:5px 8px 0 6px;vertical-align:top;color:#000\" autocomplete=\"off\" value=\"\" title=\"Google Search\" maxlength=\"2048\" name=\"q\" size=\"57\"></div><br style=\"line-height:0\"><span class=\"ds\"><span class=\"lsbb\"><input class=\"lsb\" value=\"Google Search\" name=\"btnG\" type=\"submit\"></span></span><span class=\"ds\"><span class=\"lsbb\"><input class=\"lsb\" id=\"tsuid1\" value=\"I'm Feeling Lucky\" name=\"btnI\" type=\"submit\"><script nonce=\"gsV2ToAUGYL2ujNfL2cCww==\">(function(){var id='tsuid1';document.getElementById(id).onclick = function(){if (this.form.q.value){this.checked = 1;if (this.form.iflsig)this.form.iflsig.disabled = false;}\n",
            "else top.location='/doodles/';};})();</script><input value=\"AHkkrS4AAAAAYh_afLwRADOFEcgshg68epGH4K0J0JQE\" name=\"iflsig\" type=\"hidden\"></span></span></td><td class=\"fl sblc\" align=\"left\" nowrap=\"\" width=\"25%\"><a href=\"/advanced_search?hl=en&amp;authuser=0\">Advanced search</a></td></tr></table><input id=\"gbv\" name=\"gbv\" type=\"hidden\" value=\"1\"><script nonce=\"gsV2ToAUGYL2ujNfL2cCww==\">(function(){\n",
            "var a,b=\"1\";if(document&&document.getElementById)if(\"undefined\"!=typeof XMLHttpRequest)b=\"2\";else if(\"undefined\"!=typeof ActiveXObject){var c,d,e=[\"MSXML2.XMLHTTP.6.0\",\"MSXML2.XMLHTTP.3.0\",\"MSXML2.XMLHTTP\",\"Microsoft.XMLHTTP\"];for(c=0;d=e[c++];)try{new ActiveXObject(d),b=\"2\"}catch(h){}}a=b;if(\"2\"==a&&-1==location.search.indexOf(\"&gbv=2\")){var f=google.gbvu,g=document.getElementById(\"gbv\");g&&(g.value=a);f&&window.setTimeout(function(){location.href=f},0)};}).call(this);</script></form><div id=\"gac_scont\"></div><div style=\"font-size:83%;min-height:3.5em\"><br></div><span id=\"footer\"><div style=\"font-size:10pt\"><div style=\"margin:19px auto;text-align:center\" id=\"WqQANb\"><a href=\"/intl/en/ads/\">Advertising Programs</a><a href=\"/services/\">Business Solutions</a><a href=\"/intl/en/about.html\">About Google</a></div></div><p style=\"font-size:8pt;color:#70757a\">&copy; 2022 - <a href=\"/intl/en/policies/privacy/\">Privacy</a> - <a href=\"/intl/en/policies/terms/\">Terms</a></p></span></center><script nonce=\"gsV2ToAUGYL2ujNfL2cCww==\">(function(){window.google.cdo={height:757,width:1440};(function(){\n",
            "var a=window.innerWidth,b=window.innerHeight;if(!a||!b){var c=window.document,d=\"CSS1Compat\"==c.compatMode?c.documentElement:c.body;a=d.clientWidth;b=d.clientHeight}a&&b&&(a!=google.cdo.width||b!=google.cdo.height)&&google.log(\"\",\"\",\"/client_204?&atyp=i&biw=\"+a+\"&bih=\"+b+\"&ei=\"+google.kEI);}).call(this);})();</script> <script nonce=\"gsV2ToAUGYL2ujNfL2cCww==\">(function(){google.xjs={ck:'',cs:'',excm:[]};})();</script>  <script nonce=\"gsV2ToAUGYL2ujNfL2cCww==\">(function(){var u='/xjs/_/js/k\\x3dxjs.hp.en_US.r35PnKmU3a0.O/am\\x3dAOAJAIAEIAE/d\\x3d1/ed\\x3d1/esmo\\x3d1/rs\\x3dACT90oH9UF8wHPB43QT8xGcvYuQwP9lpgQ/m\\x3dsb_he,d';\n",
            "var e=this||self,f=function(a){return a};var g;var l=function(a,b){this.g=b===h?a:\"\"};l.prototype.toString=function(){return this.g+\"\"};var h={};\n",
            "function m(){var a=u;google.lx=function(){n(a);google.lx=function(){}};google.bx||google.lx()}\n",
            "function n(a){google.timers&&google.timers.load&&google.tick&&google.tick(\"load\",\"xjsls\");var b=document;var c=\"SCRIPT\";\"application/xhtml+xml\"===b.contentType&&(c=c.toLowerCase());c=b.createElement(c);if(void 0===g){b=null;var k=e.trustedTypes;if(k&&k.createPolicy){try{b=k.createPolicy(\"goog#html\",{createHTML:f,createScript:f,createScriptURL:f})}catch(p){e.console&&e.console.error(p.message)}g=b}else g=b}a=(b=g)?b.createScriptURL(a):a;a=new l(a,h);c.src=a instanceof l&&a.constructor===l?a.g:\"type_error:TrustedResourceUrl\";var d;a=(c.ownerDocument&&c.ownerDocument.defaultView||window).document;(d=(b=null===(d=a.querySelector)||void 0===d?void 0:d.call(a,\"script[nonce]\"))?b.nonce||b.getAttribute(\"nonce\")||\"\":\"\")&&c.setAttribute(\"nonce\",d);document.body.appendChild(c);google.psa=!0};google.xjsu=u;setTimeout(function(){m()},0);})();function _DumpException(e){throw e;}\n",
            "function _F_installCss(c){}\n",
            "(function(){google.jl={attn:false,blt:'none',chnk:0,dw:false,dwu:true,emtn:0,end:0,ine:false,injs:'none',injt:0,lls:'default',pdt:0,rep:0,snet:true,strt:0,ubm:false,uwp:true};})();(function(){var pmc='{\\x22d\\x22:{},\\x22sb_he\\x22:{\\x22agen\\x22:false,\\x22cgen\\x22:false,\\x22client\\x22:\\x22heirloom-hp\\x22,\\x22dh\\x22:true,\\x22dhqt\\x22:true,\\x22ds\\x22:\\x22\\x22,\\x22ffql\\x22:\\x22en\\x22,\\x22fl\\x22:true,\\x22host\\x22:\\x22google.com\\x22,\\x22isbh\\x22:28,\\x22jsonp\\x22:true,\\x22msgs\\x22:{\\x22cibl\\x22:\\x22Clear Search\\x22,\\x22dym\\x22:\\x22Did you mean:\\x22,\\x22lcky\\x22:\\x22I\\\\u0026#39;m Feeling Lucky\\x22,\\x22lml\\x22:\\x22Learn more\\x22,\\x22oskt\\x22:\\x22Input tools\\x22,\\x22psrc\\x22:\\x22This search was removed from your \\\\u003Ca href\\x3d\\\\\\x22/history\\\\\\x22\\\\u003EWeb History\\\\u003C/a\\\\u003E\\x22,\\x22psrl\\x22:\\x22Remove\\x22,\\x22sbit\\x22:\\x22Search by image\\x22,\\x22srch\\x22:\\x22Google Search\\x22},\\x22ovr\\x22:{},\\x22pq\\x22:\\x22\\x22,\\x22refpd\\x22:true,\\x22rfs\\x22:[],\\x22sbas\\x22:\\x220 3px 8px 0 rgba(0,0,0,0.2),0 0 0 1px rgba(0,0,0,0.08)\\x22,\\x22sbpl\\x22:16,\\x22sbpr\\x22:16,\\x22scd\\x22:10,\\x22stok\\x22:\\x22eF7rVY_rqeK85kl690tPg5S2AiY\\x22,\\x22uhde\\x22:false}}';google.pmc=JSON.parse(pmc);})();</script>        </body></html>\n"
          ]
        }
      ]
    },
    {
      "cell_type": "markdown",
      "metadata": {
        "id": "W4kCdBRfWq25"
      },
      "source": [
        "## Pegando o resultado de uma chamada a uma api via http"
      ]
    },
    {
      "cell_type": "code",
      "metadata": {
        "colab": {
          "base_uri": "https://localhost:8080/"
        },
        "id": "l960PUlGK0My",
        "outputId": "25b9300f-62d4-4a82-f5e5-433f44f0f5da"
      },
      "source": [
        "from http import HTTPStatus \n",
        "\n",
        "# Buscando valores de resultado de uma API\n",
        "\n",
        "\n",
        "url_api_github = 'https://api.github.com'\n",
        "resultado_consulta_api_github = requests.get(url_api_github)\n",
        "\n",
        "if resultado_consulta_api_github.status_code == HTTPStatus.OK : \n",
        "    resultado_em_json = resultado_consulta_api_github.json()\n",
        "    print(resultado_consulta_api_github.json())\n",
        "\n",
        "# Informações adicionais\n",
        "print('Informações adicionais')\n",
        "print(f\"headers: { resultado_consulta_api_github.headers['content-type'] }\")\n",
        "print(f'encoding: { resultado_consulta_api_github.encoding }')"
      ],
      "execution_count": null,
      "outputs": [
        {
          "output_type": "stream",
          "name": "stdout",
          "text": [
            "{'current_user_url': 'https://api.github.com/user', 'current_user_authorizations_html_url': 'https://github.com/settings/connections/applications{/client_id}', 'authorizations_url': 'https://api.github.com/authorizations', 'code_search_url': 'https://api.github.com/search/code?q={query}{&page,per_page,sort,order}', 'commit_search_url': 'https://api.github.com/search/commits?q={query}{&page,per_page,sort,order}', 'emails_url': 'https://api.github.com/user/emails', 'emojis_url': 'https://api.github.com/emojis', 'events_url': 'https://api.github.com/events', 'feeds_url': 'https://api.github.com/feeds', 'followers_url': 'https://api.github.com/user/followers', 'following_url': 'https://api.github.com/user/following{/target}', 'gists_url': 'https://api.github.com/gists{/gist_id}', 'hub_url': 'https://api.github.com/hub', 'issue_search_url': 'https://api.github.com/search/issues?q={query}{&page,per_page,sort,order}', 'issues_url': 'https://api.github.com/issues', 'keys_url': 'https://api.github.com/user/keys', 'label_search_url': 'https://api.github.com/search/labels?q={query}&repository_id={repository_id}{&page,per_page}', 'notifications_url': 'https://api.github.com/notifications', 'organization_url': 'https://api.github.com/orgs/{org}', 'organization_repositories_url': 'https://api.github.com/orgs/{org}/repos{?type,page,per_page,sort}', 'organization_teams_url': 'https://api.github.com/orgs/{org}/teams', 'public_gists_url': 'https://api.github.com/gists/public', 'rate_limit_url': 'https://api.github.com/rate_limit', 'repository_url': 'https://api.github.com/repos/{owner}/{repo}', 'repository_search_url': 'https://api.github.com/search/repositories?q={query}{&page,per_page,sort,order}', 'current_user_repositories_url': 'https://api.github.com/user/repos{?type,page,per_page,sort}', 'starred_url': 'https://api.github.com/user/starred{/owner}{/repo}', 'starred_gists_url': 'https://api.github.com/gists/starred', 'topic_search_url': 'https://api.github.com/search/topics?q={query}{&page,per_page}', 'user_url': 'https://api.github.com/users/{user}', 'user_organizations_url': 'https://api.github.com/user/orgs', 'user_repositories_url': 'https://api.github.com/users/{user}/repos{?type,page,per_page,sort}', 'user_search_url': 'https://api.github.com/search/users?q={query}{&page,per_page,sort,order}'}\n",
            "Informações adicionais\n",
            "headers: application/json; charset=utf-8\n",
            "encoding: utf-8\n"
          ]
        }
      ]
    },
    {
      "cell_type": "markdown",
      "metadata": {
        "id": "6yV2UfEgWq27"
      },
      "source": [
        "## Manipulando uma variável json como um dicionário"
      ]
    },
    {
      "cell_type": "code",
      "metadata": {
        "colab": {
          "base_uri": "https://localhost:8080/"
        },
        "id": "3fu1NdzRXqjJ",
        "outputId": "3b96ad6d-eea4-4312-c19b-fdb352d94129"
      },
      "source": [
        "# mostrando as chaves, valores do dictionário\n",
        "\n",
        "dict_resultado_consulta_api_github = resultado_em_json\n",
        "\n",
        "for key, value in dict_resultado_consulta_api_github.items():\n",
        "  print(f' {key}: {value}')"
      ],
      "execution_count": null,
      "outputs": [
        {
          "output_type": "stream",
          "name": "stdout",
          "text": [
            " current_user_url: https://api.github.com/user\n",
            " current_user_authorizations_html_url: https://github.com/settings/connections/applications{/client_id}\n",
            " authorizations_url: https://api.github.com/authorizations\n",
            " code_search_url: https://api.github.com/search/code?q={query}{&page,per_page,sort,order}\n",
            " commit_search_url: https://api.github.com/search/commits?q={query}{&page,per_page,sort,order}\n",
            " emails_url: https://api.github.com/user/emails\n",
            " emojis_url: https://api.github.com/emojis\n",
            " events_url: https://api.github.com/events\n",
            " feeds_url: https://api.github.com/feeds\n",
            " followers_url: https://api.github.com/user/followers\n",
            " following_url: https://api.github.com/user/following{/target}\n",
            " gists_url: https://api.github.com/gists{/gist_id}\n",
            " hub_url: https://api.github.com/hub\n",
            " issue_search_url: https://api.github.com/search/issues?q={query}{&page,per_page,sort,order}\n",
            " issues_url: https://api.github.com/issues\n",
            " keys_url: https://api.github.com/user/keys\n",
            " label_search_url: https://api.github.com/search/labels?q={query}&repository_id={repository_id}{&page,per_page}\n",
            " notifications_url: https://api.github.com/notifications\n",
            " organization_url: https://api.github.com/orgs/{org}\n",
            " organization_repositories_url: https://api.github.com/orgs/{org}/repos{?type,page,per_page,sort}\n",
            " organization_teams_url: https://api.github.com/orgs/{org}/teams\n",
            " public_gists_url: https://api.github.com/gists/public\n",
            " rate_limit_url: https://api.github.com/rate_limit\n",
            " repository_url: https://api.github.com/repos/{owner}/{repo}\n",
            " repository_search_url: https://api.github.com/search/repositories?q={query}{&page,per_page,sort,order}\n",
            " current_user_repositories_url: https://api.github.com/user/repos{?type,page,per_page,sort}\n",
            " starred_url: https://api.github.com/user/starred{/owner}{/repo}\n",
            " starred_gists_url: https://api.github.com/gists/starred\n",
            " topic_search_url: https://api.github.com/search/topics?q={query}{&page,per_page}\n",
            " user_url: https://api.github.com/users/{user}\n",
            " user_organizations_url: https://api.github.com/user/orgs\n",
            " user_repositories_url: https://api.github.com/users/{user}/repos{?type,page,per_page,sort}\n",
            " user_search_url: https://api.github.com/search/users?q={query}{&page,per_page,sort,order}\n"
          ]
        }
      ]
    },
    {
      "cell_type": "markdown",
      "metadata": {
        "id": "wTHEnhO3K0M0"
      },
      "source": [
        "# 17) File System"
      ]
    },
    {
      "cell_type": "markdown",
      "metadata": {
        "id": "N7_z23c_Y1jL"
      },
      "source": [
        "https://docs.python.org/3/tutorial/inputoutput.html#reading-and-writing-files"
      ]
    },
    {
      "cell_type": "markdown",
      "metadata": {
        "id": "1Z2FMy2iWq28"
      },
      "source": [
        "## Manipulando arquivos"
      ]
    },
    {
      "cell_type": "markdown",
      "metadata": {
        "id": "ewvr8l_0Wq28"
      },
      "source": [
        "### Operações básicas\n",
        "\n",
        "https://docs.python.org/3/library/functions.html#open\n",
        "\n",
        "1. É preciso criar um arquivo via função open(..)\n",
        "   \n",
        "2. Definir a forma como o arquivo será usado \n",
        "   1. w abre para escrita, se o arquivo já existe o conteúdo será apagado e sobrescrito\n",
        "   2. r apenas para leitura\n",
        "   3. a abre para escrita e insere no final do arquivo\n",
        "   \n",
        "3. Chamar a operação que será realizada\n",
        "   1. write(conteudo) escreve o conteudo\n",
        "   2. read() para ler todo o conteudo corrente do arquivo\n",
        "   3. readline() para ler uma linha do arquivo\n",
        "\n",
        "4. Fechar o arquivo após a conclusão da operação\n",
        "   1. close()\n",
        "\n",
        "Mais detalhes em https://docs.python.org/3/tutorial/inputoutput.html e https://docs.python.org/3/glossary.html#term-file-object"
      ]
    },
    {
      "cell_type": "markdown",
      "metadata": {
        "id": "ukL6g8TrWq29"
      },
      "source": [
        "## Cria arquivo foo.txt e insere conteúdo"
      ]
    },
    {
      "cell_type": "code",
      "metadata": {
        "colab": {
          "base_uri": "https://localhost:8080/"
        },
        "id": "-khpQ_Nr8su8",
        "outputId": "f03b0984-8475-40e5-908c-f4a0ed29dc91"
      },
      "source": [
        "import os\n",
        "\n",
        "# Open a file\n",
        "fo = open(\"foo.txt\", \"w+\")\n",
        "conteudo = 'Conteudo teste'\n",
        "print(f'Escreve conteudo: {conteudo}')\n",
        "fo.write(conteudo)\n",
        "\n",
        "print(f\"Name of the file: {fo.name}\")\n",
        "print(f\"Closed or not : {fo.closed}\")\n",
        "print(f\"Opening mode : {fo.mode}\")\n",
        "\n",
        "path_file = os.getcwd() + '/' + fo.name\n",
        "\n",
        "print(f'Size of the file {fo.name}: {os.path.getsize(path_file)} bytes')"
      ],
      "execution_count": null,
      "outputs": [
        {
          "output_type": "stream",
          "name": "stdout",
          "text": [
            "Escreve conteudo: Conteudo teste\n",
            "Name of the file: foo.txt\n",
            "Closed or not : False\n",
            "Opening mode : w+\n",
            "Size of the file foo.txt: 0 bytes\n"
          ]
        }
      ]
    },
    {
      "cell_type": "markdown",
      "metadata": {
        "id": "Ba1G0EBAWq2-"
      },
      "source": [
        "## Lista o conteúdo do diretório corrente"
      ]
    },
    {
      "cell_type": "code",
      "metadata": {
        "colab": {
          "base_uri": "https://localhost:8080/"
        },
        "id": "jr2Qj9S6ZVZV",
        "outputId": "e60bab74-b1a9-433d-ebbd-1547c42a51aa"
      },
      "source": [
        "# Lista o conteúdo do diretório atual: \n",
        "\n",
        "diretorio_atual = os.getcwd()\n",
        "print(f'diretorio_atual : {diretorio_atual}' )\n",
        "\n",
        "os.listdir(diretorio_atual)"
      ],
      "execution_count": null,
      "outputs": [
        {
          "output_type": "stream",
          "name": "stdout",
          "text": [
            "diretorio_atual : /content\n"
          ]
        },
        {
          "output_type": "execute_result",
          "data": {
            "text/plain": [
              "['.config', 'foo.txt', 'sample_data']"
            ]
          },
          "metadata": {},
          "execution_count": 120
        }
      ]
    },
    {
      "cell_type": "markdown",
      "metadata": {
        "id": "3aXkHyruWq2-"
      },
      "source": [
        "## Ler o conteúdo do arquivo foo.txt"
      ]
    },
    {
      "cell_type": "code",
      "metadata": {
        "colab": {
          "base_uri": "https://localhost:8080/"
        },
        "id": "U3GY0d809IXz",
        "outputId": "85b99059-6ae5-473a-dbff-3cfe56314269"
      },
      "source": [
        "fo = open(\"foo.txt\", \"r\")\n",
        "str = fo.read()\n",
        "print(f\"Conteudo do arquivo foo.txt: {str}\")\n",
        "fo.close()"
      ],
      "execution_count": null,
      "outputs": [
        {
          "output_type": "stream",
          "name": "stdout",
          "text": [
            "Conteudo do arquivo foo.txt: Conteudo teste\n"
          ]
        }
      ]
    },
    {
      "cell_type": "markdown",
      "metadata": {
        "id": "ICHs9NSBWq2_"
      },
      "source": [
        "## Insere um novo conteúdo no final do arquivo foo.txt"
      ]
    },
    {
      "cell_type": "code",
      "metadata": {
        "id": "_uaESS-k-Ubk"
      },
      "source": [
        "# Append (insere conteudo no final do arquivo)\n",
        "fo = open(\"foo.txt\", \"a\")\n",
        "fo.write(\"novo teste\")\n",
        "fo.close()"
      ],
      "execution_count": null,
      "outputs": []
    },
    {
      "cell_type": "code",
      "metadata": {
        "colab": {
          "base_uri": "https://localhost:8080/"
        },
        "id": "-f_gTSLb-nFW",
        "outputId": "f112189e-3818-4801-defe-c2c4e3768b58"
      },
      "source": [
        "fo = open(\"foo.txt\", \"r\")\n",
        "str = fo.read()\n",
        "print(f\"Conteudo do arquivo foo.txt {str}\")\n",
        "fo.close()"
      ],
      "execution_count": null,
      "outputs": [
        {
          "output_type": "stream",
          "name": "stdout",
          "text": [
            "Conteudo do arquivo foo.txt Conteudo testenovo teste\n"
          ]
        }
      ]
    },
    {
      "cell_type": "code",
      "metadata": {
        "id": "ZQn9Qgtwao0B"
      },
      "source": [
        "# Append (insere conteudo no final do arquivo)\n",
        "fo = open(\"foo.txt\", \"a\")\n",
        "fo.write(\"\\n\")\n",
        "fo.write(\"nova linha \\n\")\n",
        "fo.write(\"\\nnova linha\")\n",
        "fo.write(\"\\nnova linha\")\n",
        "fo.close()"
      ],
      "execution_count": null,
      "outputs": []
    },
    {
      "cell_type": "markdown",
      "metadata": {
        "id": "5ubbcOkNWq3L"
      },
      "source": [
        "## Uso do bloco with ... as f:\n",
        "                    ...\n",
        "\n",
        "Garante que o arquivo f será fechado ao concluir a operação leitura ou escrita"
      ]
    },
    {
      "cell_type": "code",
      "metadata": {
        "colab": {
          "base_uri": "https://localhost:8080/"
        },
        "id": "iAStia2ua6jX",
        "outputId": "95c3a441-a9f8-41e9-e55f-1ec0842f037d"
      },
      "source": [
        "with open('foo.txt') as f: \n",
        "  for line in f: \n",
        "    print(line, end='')"
      ],
      "execution_count": null,
      "outputs": [
        {
          "output_type": "stream",
          "name": "stdout",
          "text": [
            "Conteudo testenovo teste\n",
            "nova linha \n",
            "\n",
            "nova linha\n",
            "nova linha"
          ]
        }
      ]
    },
    {
      "cell_type": "markdown",
      "metadata": {
        "id": "lKjMBrKAWq3M"
      },
      "source": [
        "## Pegando o tamanho do arquivo"
      ]
    },
    {
      "cell_type": "code",
      "metadata": {
        "id": "pTzOmwAynJgW",
        "colab": {
          "base_uri": "https://localhost:8080/"
        },
        "outputId": "2cc05fa2-cc3e-4bc9-d082-ffc7f73cfd7e"
      },
      "source": [
        "print(f'Size of the file {fo.name}: {os.path.getsize(path_file)} bytes')"
      ],
      "execution_count": null,
      "outputs": [
        {
          "output_type": "stream",
          "name": "stdout",
          "text": [
            "Size of the file foo.txt: 59 bytes\n"
          ]
        }
      ]
    },
    {
      "cell_type": "markdown",
      "metadata": {
        "id": "Q6afxyF7Wq3M"
      },
      "source": [
        "## Lendo um arquivo .csv"
      ]
    },
    {
      "cell_type": "code",
      "metadata": {
        "colab": {
          "base_uri": "https://localhost:8080/",
          "height": 235
        },
        "id": "3rmXlyWvWq3M",
        "outputId": "c1e9b030-4029-4fe9-d498-c84940eaf066"
      },
      "source": [
        "arquivo_estados_do_brasil = open('Lista_Estados_Brasil.csv', mode='r', encoding='utf-8')\n",
        "cont = 1\n",
        "for line in arquivo_estados_do_brasil:\n",
        "    print(f'{cont}, {line}')\n",
        "    cont = cont + 1"
      ],
      "execution_count": null,
      "outputs": [
        {
          "output_type": "error",
          "ename": "FileNotFoundError",
          "evalue": "ignored",
          "traceback": [
            "\u001b[0;31m---------------------------------------------------------------------------\u001b[0m",
            "\u001b[0;31mFileNotFoundError\u001b[0m                         Traceback (most recent call last)",
            "\u001b[0;32m<ipython-input-127-5b672630efef>\u001b[0m in \u001b[0;36m<module>\u001b[0;34m()\u001b[0m\n\u001b[0;32m----> 1\u001b[0;31m \u001b[0marquivo_estados_do_brasil\u001b[0m \u001b[0;34m=\u001b[0m \u001b[0mopen\u001b[0m\u001b[0;34m(\u001b[0m\u001b[0;34m'Lista_Estados_Brasil.csv'\u001b[0m\u001b[0;34m,\u001b[0m \u001b[0mmode\u001b[0m\u001b[0;34m=\u001b[0m\u001b[0;34m'r'\u001b[0m\u001b[0;34m,\u001b[0m \u001b[0mencoding\u001b[0m\u001b[0;34m=\u001b[0m\u001b[0;34m'utf-8'\u001b[0m\u001b[0;34m)\u001b[0m\u001b[0;34m\u001b[0m\u001b[0;34m\u001b[0m\u001b[0m\n\u001b[0m\u001b[1;32m      2\u001b[0m \u001b[0mcont\u001b[0m \u001b[0;34m=\u001b[0m \u001b[0;36m1\u001b[0m\u001b[0;34m\u001b[0m\u001b[0;34m\u001b[0m\u001b[0m\n\u001b[1;32m      3\u001b[0m \u001b[0;32mfor\u001b[0m \u001b[0mline\u001b[0m \u001b[0;32min\u001b[0m \u001b[0marquivo_estados_do_brasil\u001b[0m\u001b[0;34m:\u001b[0m\u001b[0;34m\u001b[0m\u001b[0;34m\u001b[0m\u001b[0m\n\u001b[1;32m      4\u001b[0m     \u001b[0mprint\u001b[0m\u001b[0;34m(\u001b[0m\u001b[0;34mf'{cont}, {line}'\u001b[0m\u001b[0;34m)\u001b[0m\u001b[0;34m\u001b[0m\u001b[0;34m\u001b[0m\u001b[0m\n\u001b[1;32m      5\u001b[0m     \u001b[0mcont\u001b[0m \u001b[0;34m=\u001b[0m \u001b[0mcont\u001b[0m \u001b[0;34m+\u001b[0m \u001b[0;36m1\u001b[0m\u001b[0;34m\u001b[0m\u001b[0;34m\u001b[0m\u001b[0m\n",
            "\u001b[0;31mFileNotFoundError\u001b[0m: [Errno 2] No such file or directory: 'Lista_Estados_Brasil.csv'"
          ]
        }
      ]
    },
    {
      "cell_type": "markdown",
      "metadata": {
        "id": "328oUEbLK0M5"
      },
      "source": [
        "# 18) Excecoes"
      ]
    },
    {
      "cell_type": "markdown",
      "metadata": {
        "id": "jPeo_KpFboKl"
      },
      "source": [
        "https://docs.python.org/3/tutorial/errors.html"
      ]
    },
    {
      "cell_type": "code",
      "metadata": {
        "id": "QdKmYHl2-pL2"
      },
      "source": [
        "# Tratando exceções\n",
        "\n",
        "try:\n",
        "   fh = open(\"testfile\", \"w\")\n",
        "   fh.write(\"This is my test file for exception handling!!\")\n",
        "except IOError:\n",
        "   print(\"Error: can\\'t find file or read data\")\n",
        "else:\n",
        "   print(\"Written content in the file successfully\")\n",
        "   fh.close()"
      ],
      "execution_count": null,
      "outputs": []
    },
    {
      "cell_type": "code",
      "metadata": {
        "id": "RB74nKSE5cyz"
      },
      "source": [
        "try: \n",
        "  f = open(\"testfile\", \"r\")\n",
        "  conteudo = f.read()\n",
        "  print(f'Conteudo de {f.name}: {conteudo}')\n",
        "  f.close()\n",
        "except IOError:\n",
        "  print(f\"Erro: não pode ler o arquivo\")\n",
        "else:\n",
        "  print(f'O arquivo {f.name} foi lido com sucessof!')"
      ],
      "execution_count": null,
      "outputs": []
    },
    {
      "cell_type": "code",
      "metadata": {
        "id": "-8Owp3-t57w9"
      },
      "source": [
        "# Levantando uma exceção\n",
        "\n",
        "def functionName( level ):\n",
        "  if level < 1:\n",
        "    raise Exception(f\"Invalid level! {level}\")\n",
        "    # The code below to this would not be executed\n",
        "    # if we raise the exception\n",
        "  return level"
      ],
      "execution_count": null,
      "outputs": []
    },
    {
      "cell_type": "code",
      "metadata": {
        "id": "Y5K4RIAt7kFT"
      },
      "source": [
        "try: \n",
        "  my_level = functionName(0)\n",
        "  print(f'Meu nivel válido é: {my_level}')\n",
        "except Exception as e:\n",
        "  print(e)"
      ],
      "execution_count": null,
      "outputs": []
    },
    {
      "cell_type": "code",
      "metadata": {
        "id": "c_305_SG7q9o"
      },
      "source": [
        "try: \n",
        "  my_level = functionName(1)\n",
        "  print(f'Meu nivel válido é: {my_level}')\n",
        "except Exception as e:\n",
        "  print(e)"
      ],
      "execution_count": null,
      "outputs": []
    },
    {
      "cell_type": "markdown",
      "metadata": {
        "id": "YJlB4p4JK0Mv"
      },
      "source": [
        "# 19) Modulo OS (Operating System interface)"
      ]
    },
    {
      "cell_type": "markdown",
      "metadata": {
        "id": "jVGlcl8SWq3Q"
      },
      "source": [
        ""
      ]
    },
    {
      "cell_type": "markdown",
      "metadata": {
        "id": "_6IPx4GdWq3Q"
      },
      "source": [
        "https://docs.python.org/3/library/os.html"
      ]
    },
    {
      "cell_type": "code",
      "metadata": {
        "id": "SBw_XhphWq3Q"
      },
      "source": [
        "import os\n",
        "\n",
        "print(f'Sistema Operacional: { os.name }')\n",
        "print(f'Diretorio corrente: { os.getcwd() }')\n",
        "print(f'Lista os arquivos do diretório corrente: {os.listdir()}')"
      ],
      "execution_count": null,
      "outputs": []
    },
    {
      "cell_type": "markdown",
      "metadata": {
        "id": "q4p02h5cWq3R"
      },
      "source": [
        "# 20) Expressões Regulares"
      ]
    },
    {
      "cell_type": "markdown",
      "metadata": {
        "id": "QcR2qETsWq3R"
      },
      "source": [
        "https://docs.python.org/3/library/re.html"
      ]
    },
    {
      "cell_type": "markdown",
      "metadata": {
        "id": "lhStFjxYWq3R"
      },
      "source": [
        "Buscando padrao de telefone e e-mail"
      ]
    },
    {
      "cell_type": "code",
      "metadata": {
        "id": "O9yQte6aWq3R"
      },
      "source": [
        "import re\n",
        "\n",
        "valor_telefone = \"8899-8765\"\n",
        "\n",
        "frase1_telefone = \"Meu número é 1234-1234\"\n",
        "frase2_telefone = \"Meu número é 9469-3558 ou 3214-2538\"\n",
        "frase3_telefone = \"Meu número é 99469-3558\"\n",
        "frase4_telefone = \"Meu número de celular é: 994693558\"\n",
        "frase5_telefone = \"Meu número de celular é : (86)99469-3558\""
      ],
      "execution_count": null,
      "outputs": []
    },
    {
      "cell_type": "markdown",
      "metadata": {
        "id": "S9zp4H_kWq3S"
      },
      "source": [
        "## Definindo os padrões para checar a formatação de telefone"
      ]
    },
    {
      "cell_type": "code",
      "metadata": {
        "id": "qwxX4jutWq3S"
      },
      "source": [
        "# Os seguintes padroes podem ser utilizados para buscar o padrao de telefone XXXX-XXXX, onde X é um dígito \n",
        "padrao1_telefone = \"[0123456789][0123456789][0123456789][0123456789][-][0123456789][0123456789][0123456789][0123456789]\"\n",
        "padrao2_telefone = \"[0-9][0-9][0-9][0-9][-][0-9][0-9][0-9][0-9]\"\n",
        "\n",
        "# {n} : significa que o caractere é repetido 4 vezes\n",
        "padrao3_telefone = \"[0-9]{4}[-][0-9]{4}\"\n",
        "\n",
        "# O seguinte padrão pode ser utilizados para buscar o padrao de telefone XXXX-XXXX ou XXXXX-XXXX, onde X é um dígito\n",
        "# {n, m} : significa que o caractere pode ser repetido 4 vezes ou 5 vezes\n",
        "padrao4_telefone = \"[0-9]{4,5}[-][0-9]{4}\"\n",
        "\n",
        "# O seguinte padrão pode ser utilizados para buscar o padrao de telefone XXXX-XXXX, XXXXXXXX, XXXXX-XXXX ou XXXXXXXXX\n",
        "# onde X é um dígito\n",
        "# * : significa que o caractere pode aparecer ou não aparecer\n",
        "padrao5_telefone = \"[0-9]{4,5}[-]*[0-9]{4}\"\n",
        "\n",
        "# Padrao de telefone com DDD \n",
        "# DDXXXXYYYY ou DDXXXXXYYYY\n",
        "padrao_telefone_ddd = \"[0-9]{2}[0-9]{4,5}[0-9]{4}\"\n",
        "\n",
        "# Padrao de telefone com DDD \n",
        "# (DD)XXXX-YYYY ou (DD)XXXXX-YYYY\n",
        "padrao_telefone_ddd2 = \"[(][0-9]{2}[)][0-9]{4,5}[-][0-9]{4}\""
      ],
      "execution_count": null,
      "outputs": []
    },
    {
      "cell_type": "markdown",
      "metadata": {
        "id": "2noTr3e8Wq3S"
      },
      "source": [
        "## Uso da função match(..)\n",
        "### Checa se o padrão passado bate com o valor da string"
      ]
    },
    {
      "cell_type": "code",
      "metadata": {
        "id": "87hc-guAWq3S"
      },
      "source": [
        "valor_telefone1 = \"8899-8765\"\n",
        "\n",
        "teste_match = re.match(padrao1_telefone, valor_telefone)\n",
        "\n",
        "print(f'Compara o padrao {padrao1_telefone} com a string valor_telefone {valor_telefone1}') \n",
        "print(f'Testa a função match: {teste_match}') \n",
        "if teste_match is not None: \n",
        "    print(f'{ teste_match.group() }')\n",
        "    print( type(teste_match.group()) )\n",
        "else: \n",
        "    print(f'O padrão: {padrao1_telefone} não bateu com a string {valor_telefone1}')"
      ],
      "execution_count": null,
      "outputs": []
    },
    {
      "cell_type": "code",
      "metadata": {
        "id": "3TDe7wKQWq3T"
      },
      "source": [
        "frase1_telefone = \"Meu número é 1234-1234\"\n",
        "\n",
        "retorno2 = re.match(padrao2_telefone, frase1_telefone)\n",
        "print(f'Testa o padrao {padrao2_telefone} com a string {frase1_telefone}') \n",
        "print(f'Testa a função match: {retorno2}')"
      ],
      "execution_count": null,
      "outputs": []
    },
    {
      "cell_type": "code",
      "metadata": {
        "id": "ioirIOp2Wq3T"
      },
      "source": [
        "valor_telefone2 = \"(86)8899-8765\"\n",
        "\n",
        "teste_match2 = re.match(padrao_telefone_ddd2, valor_telefone2)\n",
        "\n",
        "print(f'Compara o padrao {padrao_telefone_ddd2} com a string valor_telefone {valor_telefone2}') \n",
        "print(f'Testa a função match: {teste_match2}') \n",
        "if teste_match2 is not None: \n",
        "    print(f'{ teste_match2.group() }')\n",
        "    print( type(teste_match2.group()) )\n",
        "else: \n",
        "    print(f'O padrão: {padrao_telefone_ddd2} não bateu com a string {valor_telefone2}')"
      ],
      "execution_count": null,
      "outputs": []
    },
    {
      "cell_type": "markdown",
      "metadata": {
        "id": "0qUVJWvXWq3T"
      },
      "source": [
        "## Uso da função search(..)\n",
        "### Faz a busca pela primeira ocorrência do padrão passado na string a ser testada"
      ]
    },
    {
      "cell_type": "code",
      "metadata": {
        "id": "Qbm8LoqfWq3i"
      },
      "source": [
        "frase1_telefone = \"Meu número é 1234-1234\"\n",
        "\n",
        "testa_search = re.search(padrao2_telefone, frase1_telefone)\n",
        "\n",
        "print(f'Busca o padrao {padrao2_telefone} na string {frase1_telefone}')\n",
        "print(f'testa_search: {testa_search}')\n",
        "if testa_search is not None: \n",
        "    print(f'teste: {testa_search.group()}')\n",
        "else: \n",
        "    print(f'O padrão: {padrao2_telefone} não foi encontrada na string {frase1_telefone}')"
      ],
      "execution_count": null,
      "outputs": []
    },
    {
      "cell_type": "code",
      "metadata": {
        "id": "t0GPZ10vWq3j"
      },
      "source": [
        "frase1_telefone = \"Meu número é 1234-1234\"\n",
        "\n",
        "testa_search = re.search(padrao5_telefone, frase1_telefone)\n",
        "\n",
        "print(f'Busca o padrao {padrao5_telefone} na string {frase1_telefone}')\n",
        "print(f'testa_search: {testa_search}')\n",
        "if testa_search is not None: \n",
        "    print(f'teste: {testa_search.group() }')\n",
        "else: \n",
        "    print(f'O padrão: {padrao5_telefone} não foi encontrada na string {frase1_telefone}')"
      ],
      "execution_count": null,
      "outputs": []
    },
    {
      "cell_type": "markdown",
      "metadata": {
        "id": "3uiY-McLWq3j"
      },
      "source": [
        "## Uso da função findall(..)\n",
        "### Faz a busca pela primeira ocorrência do padrão passado na string a ser testada"
      ]
    },
    {
      "cell_type": "code",
      "metadata": {
        "id": "EOrdsg_KWq3j"
      },
      "source": [
        "frase1_telefone = \"Meu número é 1234-1234 ou 994693558 ou 99469-3558\"\n",
        "\n",
        "testa_findall = re.findall(padrao5_telefone, frase1_telefone)\n",
        "\n",
        "print(f'Busca o padrao {padrao5_telefone} na string {frase1_telefone}')\n",
        "print(f'testa_findall: {testa_findall}')\n",
        "if testa_findall is not None: \n",
        "    print(f'lista de correspondentes: {testa_findall }')\n",
        "else: \n",
        "    print(f'O padrão: {padrao5_telefone} não foi encontrada na string {frase1_telefone}')"
      ],
      "execution_count": null,
      "outputs": []
    },
    {
      "cell_type": "code",
      "metadata": {
        "id": "wYXB5ABRWq3k"
      },
      "source": [
        "frase1_telefone = \"Meu número é 1234-1234 ou 994693558 ou 99469-3558 ou (81)99469-3558\"\n",
        "\n",
        "testa_findall = re.findall(padrao_telefone_ddd2, frase1_telefone)\n",
        "\n",
        "print(f'Busca o padrao {padrao_telefone_ddd2} na string {frase1_telefone}')\n",
        "print(f'testa_findall: {testa_findall}')\n",
        "if testa_findall is not None: \n",
        "    print(f'lista de correspondentes: {testa_findall }')\n",
        "else: \n",
        "    print(f'O padrão: {padrao_telefone_ddd2} não foi encontrada na string {frase1_telefone}')"
      ],
      "execution_count": null,
      "outputs": []
    },
    {
      "cell_type": "markdown",
      "metadata": {
        "id": "IVENeBoCWq3k"
      },
      "source": [
        "## Padrão de e-mail"
      ]
    },
    {
      "cell_type": "code",
      "metadata": {
        "id": "QFHnqMauWq3k"
      },
      "source": [
        "# [a-zA_Z] : caracteres minúsculos ou maiúsculos \n",
        "# [a-zA-Z0-9_.] : caracteres minúsculos ou maiúsculos ou dígitos ou _ ou .\n",
        "\n",
        "padrao_email = \"[a-zA-Z0-9_.]{1,30}@[a-zA-Z0-9_.]{1,30}\""
      ],
      "execution_count": null,
      "outputs": []
    },
    {
      "cell_type": "code",
      "metadata": {
        "id": "WRRvhg-AWq3m"
      },
      "source": [
        "meu_email = 'armando@ufpi.edu.br'\n",
        "\n",
        "teste_match = re.match(padrao_email, 'armando@ufpi.edu.br')\n",
        "\n",
        "print(f'Testa o padrão: {padrao_email} com o conteúdo: {meu_email}')\n",
        "if teste_match is not None:\n",
        "    print( teste_match.group() )"
      ],
      "execution_count": null,
      "outputs": []
    },
    {
      "cell_type": "code",
      "metadata": {
        "id": "-0km-KscWq3m"
      },
      "source": [
        "lista_de_emails = ['armando.sousa@gmail.com', 'armando_sousa@uol.com.br', 'teste@teste.pt', 'teste@']\n",
        "\n",
        "for each in lista_de_emails:\n",
        "    teste_match = re.match(padrao_email, each)\n",
        "    print(teste_match)\n",
        "    if teste_match is not None:\n",
        "        print(f'teste: {teste_match.group()} - O e-mail {each} é válido')\n",
        "    else:\n",
        "        print(f'O e-mail: {each} é inválido!')"
      ],
      "execution_count": null,
      "outputs": []
    }
  ]
}
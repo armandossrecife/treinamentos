{
  "nbformat": 4,
  "nbformat_minor": 0,
  "metadata": {
    "interpreter": {
      "hash": "05ece30799c2dcdac4c13b3af20453da19de8df0d9a1de52cff7e0b6e1e82bdd"
    },
    "kernelspec": {
      "display_name": "Python 3.6.3 64-bit",
      "name": "python3"
    },
    "language_info": {
      "codemirror_mode": {
        "name": "ipython",
        "version": 3
      },
      "file_extension": ".py",
      "mimetype": "text/x-python",
      "name": "python",
      "nbconvert_exporter": "python",
      "pygments_lexer": "ipython3",
      "version": "3.6.3"
    },
    "orig_nbformat": 4,
    "colab": {
      "name": "Review Python POO a2.ipynb",
      "provenance": [],
      "include_colab_link": true
    }
  },
  "cells": [
    {
      "cell_type": "markdown",
      "metadata": {
        "id": "view-in-github",
        "colab_type": "text"
      },
      "source": [
        "<a href=\"https://colab.research.google.com/github/armandossrecife/treinamentos/blob/main/Review_Python_POO_a2.ipynb\" target=\"_parent\"><img src=\"https://colab.research.google.com/assets/colab-badge.svg\" alt=\"Open In Colab\"/></a>"
      ]
    },
    {
      "cell_type": "code",
      "metadata": {
        "id": "OcUoVOpOKNIE"
      },
      "source": [
        "import datetime\n",
        "import re"
      ],
      "execution_count": null,
      "outputs": []
    },
    {
      "cell_type": "markdown",
      "metadata": {
        "id": "ROBky5W1KNII"
      },
      "source": [
        "## Criando a classe Endereco"
      ]
    },
    {
      "cell_type": "code",
      "metadata": {
        "id": "6rCDr6oxKNIK"
      },
      "source": [
        "class Endereco:\n",
        "    def __init__(self, rua, numero, complemento=None, cep=None, cidade=None, estado=None):\n",
        "        self.rua = rua\n",
        "        self.numero = numero\n",
        "        self.complemento = complemento\n",
        "        self.cep = cep\n",
        "        self.cidade = cidade\n",
        "        self.estado = estado\n",
        "\n",
        "    def __str__(self):\n",
        "        return f'Rua: {self.rua} - n.o: {self.numero} - Cpl: {self.complemento} - CEP: {self.cep} - cidade: {self.cidade} - estado: {self.estado} '"
      ],
      "execution_count": null,
      "outputs": []
    },
    {
      "cell_type": "markdown",
      "metadata": {
        "id": "nQgnbamlKNIL"
      },
      "source": [
        "## Criando a classe Pessoa"
      ]
    },
    {
      "cell_type": "code",
      "metadata": {
        "id": "JHwakmIIKNIM"
      },
      "source": [
        "class Pessoa:\n",
        "    endereco = None\n",
        "    def __init__(self, nome, data_nascimento, sexo, cpf, telefone=None, email=None):\n",
        "        self.nome = nome\n",
        "        self.data_nascimento = data_nascimento\n",
        "        self.sexo = sexo\n",
        "        self.cpf = cpf\n",
        "        self.telefone = telefone\n",
        "        self.email = email\n",
        "\n",
        "    def get_idade_atual(self):\n",
        "        ano_nascimento = self.data_nascimento.split('/')[2]\n",
        "        data_corrente = datetime.datetime.now()\n",
        "        ano_corrente = data_corrente.year\n",
        "        return int(ano_corrente) - int(ano_nascimento)\n",
        "\n",
        "    def set_endereco(self, endereco):\n",
        "        self.endereco = endereco\n",
        "    \n",
        "    def __str__(self):\n",
        "        return f'Nome: {self.nome}, CPF: {self.cpf}, Sexo: {self.sexo}, Telefone: {self.telefone}, Endereço: {self.endereco}'"
      ],
      "execution_count": null,
      "outputs": []
    },
    {
      "cell_type": "markdown",
      "metadata": {
        "id": "kqOOE-y9KNIN"
      },
      "source": [
        "## Criando a classe Validador"
      ]
    },
    {
      "cell_type": "code",
      "metadata": {
        "id": "jZLsjfBiKNIO"
      },
      "source": [
        "class Validador:\n",
        "    padrao_telefone_com_ddd = \"[(][0-9]{2}[)][0-9]{4,5}[-]*[0-9]{4}\"\n",
        "    padrao_email = \"[a-zA-Z0-9_.]{1,30}@[a-zA-Z0-9_.]{1,30}\"\n",
        "    padrao_data_nascimento = '[0-9]{2}[/][0-9]{2}[/][0-9]{4}'\n",
        "    padrao_cep = '[0-9]{5}[-][0-9]{3}'\n",
        "\n",
        "    @classmethod\n",
        "    def valida_telefone(cls,telefone):\n",
        "        checa_telefone = re.match(cls.padrao_telefone_com_ddd, telefone)\n",
        "        if checa_telefone is not None:\n",
        "            return telefone\n",
        "        else:\n",
        "            mensagem = f'Telefone {telefone} inválido! A formatação deve ser (XX)XXXXX-XXXX ou (XX)XXXX-XXXX'\n",
        "            raise Exception(mensagem)\n",
        "\n",
        "    @classmethod\n",
        "    def valida_email(cls, email):\n",
        "        checa_email = re.match(cls.padrao_email, email)\n",
        "        if checa_email is not None:\n",
        "            return email\n",
        "        else:\n",
        "            mensagem = f'E-mail {email} inválido! A formatação deve ser xxxx@yyyy.zzz...'\n",
        "            raise Exception(mensagem)\n",
        "\n",
        "    @classmethod\n",
        "    def valida_data(cls, data): \n",
        "        checa_data = re.match(cls.padrao_data_nascimento, data)\n",
        "        if checa_data is not None : \n",
        "            dia = data.split('/')[0]\n",
        "            mes = data.split('/')[1]\n",
        "            ano = data.split('/')[2]\n",
        "            try:\n",
        "                data_auxiliar = datetime.datetime(int(ano), int(mes), int(dia) )\n",
        "            except Exception as e:\n",
        "                print(f'Data {data} inválida! {e}')    \n",
        "            return data\n",
        "        else:\n",
        "            mensagem = f'Data {data} inválida! A formatação deve ser dd/mm/yyyy'\n",
        "            raise Exception(mensagem)\n",
        "\n",
        "    @classmethod\n",
        "    def valida_cep(cls, cep):\n",
        "        checa_cep = re.match(cls.padrao_cep, cep)\n",
        "        if checa_cep is not None:\n",
        "            return cep\n",
        "        else:\n",
        "            mensagem = f'CEP {cep} inválido! A formatação deve ser XXXXX-XXX'\n",
        "            raise Exception(mensagem)"
      ],
      "execution_count": null,
      "outputs": []
    },
    {
      "cell_type": "markdown",
      "metadata": {
        "id": "qWN7G1I7KNIQ"
      },
      "source": [
        "### Instanciando um objeto endereco e um objeto pessoa"
      ]
    },
    {
      "cell_type": "code",
      "metadata": {
        "id": "ovUlTSWUKNIR",
        "outputId": "767c7ca7-d587-4926-9403-38953f0414cd"
      },
      "source": [
        "try: \n",
        "    # instancia Endereco\n",
        "    endereco1 = Endereco(rua='Desembargador Pires de Castro', numero='2175', cep=Validador.valida_cep('64000-0000'), cidade='Teresina', estado='PI')\n",
        "\n",
        "    # instancia Pessoa\n",
        "    pessoa1 = Pessoa(nome='Armando Soares Sousa', data_nascimento=Validador.valida_data('19/02/1979'), \n",
        "    sexo='M', cpf='798461493-87', telefone=Validador.valida_telefone('(86)994693558'), email=Validador.valida_email('armando@ufpi.edu.br'))\n",
        "\n",
        "    # atribui enderedo1 a pessoa1\n",
        "    pessoa1.set_endereco(endereco1)\n",
        "\n",
        "    print(f'Nome: {pessoa1.nome}, Data de Nascimento: {pessoa1.data_nascimento}, Sexo: {pessoa1.sexo}, cpf: {pessoa1.cpf}, idade: { pessoa1.get_idade_atual() }, endereco: {pessoa1.endereco}')\n",
        "except Exception as e:\n",
        "    print(f'Erro: {e}')"
      ],
      "execution_count": null,
      "outputs": [
        {
          "name": "stdout",
          "output_type": "stream",
          "text": [
            "Nome: Armando Soares Sousa, Data de Nascimento: 19/02/1979, Sexo: M, cpf: 798461493-87, idade: 42, endereco: Rua: Desembargador Pires de Castro - n.o: 2175 - Cpl: None - CEP: 64000-0000 - cidade: Teresina - estado: PI \n"
          ]
        }
      ]
    }
  ]
}
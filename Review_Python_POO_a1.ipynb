{
  "nbformat": 4,
  "nbformat_minor": 0,
  "metadata": {
    "interpreter": {
      "hash": "58bc13ec4dd135858b8220102d0ad3358f57eb64d131366ec25c4d4365eacf63"
    },
    "kernelspec": {
      "display_name": "Python 3.6.3 64-bit",
      "name": "python3"
    },
    "language_info": {
      "codemirror_mode": {
        "name": "ipython",
        "version": 3
      },
      "file_extension": ".py",
      "mimetype": "text/x-python",
      "name": "python",
      "nbconvert_exporter": "python",
      "pygments_lexer": "ipython3",
      "version": "3.6.3"
    },
    "orig_nbformat": 4,
    "colab": {
      "name": "Review Python POO a1.ipynb",
      "provenance": [],
      "include_colab_link": true
    }
  },
  "cells": [
    {
      "cell_type": "markdown",
      "metadata": {
        "id": "view-in-github",
        "colab_type": "text"
      },
      "source": [
        "<a href=\"https://colab.research.google.com/github/armandossrecife/treinamentos/blob/main/Review_Python_POO_a1.ipynb\" target=\"_parent\"><img src=\"https://colab.research.google.com/assets/colab-badge.svg\" alt=\"Open In Colab\"/></a>"
      ]
    },
    {
      "cell_type": "markdown",
      "metadata": {
        "id": "0j7wFxlhJd0j"
      },
      "source": [
        "# Programação Orienta a Objetos"
      ]
    },
    {
      "cell_type": "markdown",
      "metadata": {
        "id": "vLP_so5FJd0o"
      },
      "source": [
        "## Paradigma que trabalha baseado em objetos. Os objetos podem conter dados e operações.\n",
        "\n",
        "## Um objeto pode conter propriedades (atributos) ou operações (métodos)"
      ]
    },
    {
      "cell_type": "markdown",
      "metadata": {
        "id": "fBWYIvDAJd0p"
      },
      "source": [
        "https://docs.python.org/3/tutorial/classes.html"
      ]
    },
    {
      "cell_type": "markdown",
      "metadata": {
        "id": "z8LnL6scJd0q"
      },
      "source": [
        "### Definição de classe"
      ]
    },
    {
      "cell_type": "code",
      "metadata": {
        "id": "2rxvm0ehJd0q",
        "colab": {
          "base_uri": "https://localhost:8080/"
        },
        "outputId": "d91c6a12-86c9-4aa4-a7c7-e914f29bd0a8"
      },
      "source": [
        "class Pessoa:\n",
        "    pass\n",
        "\n",
        "p = Pessoa()\n",
        "\n",
        "print(p)"
      ],
      "execution_count": null,
      "outputs": [
        {
          "output_type": "stream",
          "name": "stdout",
          "text": [
            "<__main__.Pessoa object at 0x7fb1b24f8cd0>\n"
          ]
        }
      ]
    },
    {
      "cell_type": "markdown",
      "metadata": {
        "id": "z9MeeZCNJd0t"
      },
      "source": [
        "### Definindo uma classe com um construtor inicializando um atributo"
      ]
    },
    {
      "cell_type": "code",
      "metadata": {
        "id": "YIQxsy4XJd0u",
        "colab": {
          "base_uri": "https://localhost:8080/"
        },
        "outputId": "d3030957-3009-4957-9722-41c0dcc970ea"
      },
      "source": [
        "class Pessoa:\n",
        "\tdef __init__(self, nome):\n",
        "\t\tself.nome = nome\n",
        "\n",
        "# instancia um objeto Pessoa\n",
        "p = Pessoa('Armando')\n",
        "\n",
        "print(p.nome)"
      ],
      "execution_count": null,
      "outputs": [
        {
          "output_type": "stream",
          "name": "stdout",
          "text": [
            "Armando\n"
          ]
        }
      ]
    },
    {
      "cell_type": "markdown",
      "metadata": {
        "id": "-ToxDNCcJd0v"
      },
      "source": [
        "### Classe com construtor e método"
      ]
    },
    {
      "cell_type": "code",
      "metadata": {
        "id": "uVV1JtqoJd0v",
        "colab": {
          "base_uri": "https://localhost:8080/"
        },
        "outputId": "a698ee4a-076e-4350-a7ed-653c3738879f"
      },
      "source": [
        "import datetime\n",
        "\n",
        "class Pessoa: \n",
        "\tdef __init__(self, nome, cpf, data_nascimento):\n",
        "\t\tself.nome = nome\n",
        "\t\tself.cpf = cpf\n",
        "\t\tself.data_nascimento = data_nascimento\n",
        "\n",
        "\tdef get_idade(self):\n",
        "\t\tano_atual = int(datetime.datetime.now().year)\n",
        "\t\tano = int(self.data_nascimento.split('/')[2])\n",
        "\t\treturn ano_atual - ano\n",
        "\n",
        "p = Pessoa(nome='Armando Soares Sousa', data_nascimento='19/02/1979', cpf='79846149387')\n",
        "\n",
        "print(f'Nome: {p.nome}, CPF: {p.cpf}, Data de Nascimento: {p.data_nascimento},  Idade: {p.get_idade()}')\n"
      ],
      "execution_count": null,
      "outputs": [
        {
          "output_type": "stream",
          "name": "stdout",
          "text": [
            "Nome: Armando Soares Sousa, CPF: 79846149387, Data de Nascimento: 19/02/1979,  Idade: 42\n"
          ]
        }
      ]
    },
    {
      "cell_type": "markdown",
      "metadata": {
        "id": "4tDcSq_0Jd0w"
      },
      "source": [
        "### Funções fora das classes"
      ]
    },
    {
      "cell_type": "code",
      "metadata": {
        "id": "1sz85SRoJd0x",
        "colab": {
          "base_uri": "https://localhost:8080/"
        },
        "outputId": "c1e3b603-f707-4533-8c15-cc5e1fd42101"
      },
      "source": [
        "import datetime\n",
        "import re\n",
        "\n",
        "padrao_telefone_com_ddd = \"[(][0-9]{2}[)][0-9]{4,5}[-]*[0-9]{4}\"\n",
        "padrao_email = \"[a-zA-Z0-9_.]{1,30}@[a-zA-Z0-9_.]{1,30}\"\n",
        "padrao_data_nascimento = '[0-9]{2}[/][0-9]{2}[/][0-9]{4}'\n",
        "padrao_cep = '[0-9]{5}[-][0-9]{3}'\n",
        "\n",
        "def valida_telefone(telefone):\n",
        "    checa_telefone = re.match(padrao_telefone_com_ddd, telefone)\n",
        "    if checa_telefone is not None:\n",
        "        return telefone\n",
        "    else:\n",
        "        mensagem = f'Telefone {telefone} inválido! A formatação deve ser (XX)XXXXX-XXXX ou (XX)XXXX-XXXX'\n",
        "        raise Exception(mensagem)\n",
        "\n",
        "\n",
        "def valida_email(email):\n",
        "    checa_email = re.match(padrao_email, email)\n",
        "    if checa_email is not None:\n",
        "        return email\n",
        "    else:\n",
        "        mensagem = f'E-mail {email} inválido! A formatação deve ser xxxx@yyyy.zzz...'\n",
        "        raise Exception(mensagem)\n",
        "\n",
        "\n",
        "def valida_data(data): \n",
        "    checa_data = re.match(padrao_data_nascimento, data)\n",
        "    if checa_data is not None : \n",
        "        dia = data.split('/')[0]\n",
        "        mes = data.split('/')[1]\n",
        "        ano = data.split('/')[2]\n",
        "        try:\n",
        "            data_auxiliar = datetime.datetime(int(ano), int(mes), int(dia) )\n",
        "        except Exception as e:\n",
        "            print(f'Data {data} inválida! {e}')    \n",
        "        return data\n",
        "    else:\n",
        "        mensagem = f'Data {data} inválida! A formatação deve ser dd/mm/yyyy'\n",
        "        raise Exception(mensagem)\n",
        "\n",
        "def valida_cep(cep):\n",
        "    checa_cep = re.match(padrao_cep, cep)\n",
        "    if checa_cep is not None:\n",
        "        return cep\n",
        "    else:\n",
        "        mensagem = f'CEP {cep} inválido! A formatação deve ser XXXXX-XXX'\n",
        "        raise Exception(mensagem)\n",
        "\n",
        "print(f\"Telefone: {valida_telefone('(86)994693558')}\")\n",
        "print(f\"E-mail: {valida_email('armando@ufpi.edu.br')}\")\n",
        "print(f\"Data de Nascimento: {valida_data('19/02/1979')}\")\n",
        "print(f\"Cep: {valida_cep('64007-250')}\")"
      ],
      "execution_count": null,
      "outputs": [
        {
          "output_type": "stream",
          "name": "stdout",
          "text": [
            "Telefone: (86)994693558\n",
            "E-mail: armando@ufpi.edu.br\n",
            "Data de Nascimento: 19/02/1979\n",
            "Cep: 64007-250\n"
          ]
        }
      ]
    },
    {
      "cell_type": "markdown",
      "metadata": {
        "id": "U9gj2bgdJd0y"
      },
      "source": [
        "### Criando a classe Endereco"
      ]
    },
    {
      "cell_type": "code",
      "metadata": {
        "id": "9wnlqEFzJd0y"
      },
      "source": [
        "class Endereco:\n",
        "    def __init__(self, rua, numero, complemento=None, cep=None, cidade=None, estado=None):\n",
        "        self.rua = rua\n",
        "        self.numero = numero\n",
        "        self.complemento = complemento\n",
        "        self.cep = cep\n",
        "        self.cidade = cidade\n",
        "        self.estado = estado\n",
        "\n",
        "    def __str__(self):\n",
        "        return f'Rua: {self.rua} - n.o: {self.numero} - Cpl: {self.complemento} - CEP: {self.cep} - cidade: {self.cidade} - estado: {self.estado} '"
      ],
      "execution_count": null,
      "outputs": []
    },
    {
      "cell_type": "markdown",
      "metadata": {
        "id": "8Mt5YafXJd0z"
      },
      "source": [
        "### Criando a classe Pessoa \"completa\" usando a classe Endereco para compor a classe Pessoa"
      ]
    },
    {
      "cell_type": "code",
      "metadata": {
        "id": "aeRvD4_NJd0z"
      },
      "source": [
        "class Pessoa:\n",
        "    endereco = None\n",
        "    def __init__(self, nome, data_nascimento, sexo, cpf, telefone=None, email=None):\n",
        "        self.nome = nome\n",
        "        self.data_nascimento = data_nascimento\n",
        "        self.sexo = sexo\n",
        "        self.cpf = cpf\n",
        "        self.telefone = telefone\n",
        "        self.email = email\n",
        "\n",
        "    def get_idade_atual(self):\n",
        "        ano_nascimento = self.data_nascimento.split('/')[2]\n",
        "        data_corrente = datetime.datetime.now()\n",
        "        ano_corrente = data_corrente.year\n",
        "        return int(ano_corrente) - int(ano_nascimento)\n",
        "\n",
        "    def set_endereco(self, endereco):\n",
        "        self.endereco = endereco\n",
        "    \n",
        "    def __str__(self):\n",
        "        return f'Nome: {self.nome}, CPF: {self.cpf}, Sexo: {self.sexo}, Telefone: {self.telefone}, Endereço: {self.endereco}'"
      ],
      "execution_count": null,
      "outputs": []
    },
    {
      "cell_type": "markdown",
      "metadata": {
        "id": "CfElNcMSJd00"
      },
      "source": [
        "### Instanciando um objeto Endereco e um objeto Pessoa"
      ]
    },
    {
      "cell_type": "code",
      "metadata": {
        "id": "dNWYsL8WJd00",
        "colab": {
          "base_uri": "https://localhost:8080/"
        },
        "outputId": "28d16ed1-91c8-48c5-a585-fbd9d6a72a41"
      },
      "source": [
        "try: \n",
        "    # instancia Endereco\n",
        "    endereco1 = Endereco(rua='Desembargador Pires de Castro', numero='2175', cep=valida_cep('64000-0000'), cidade='Teresina', estado='PI')\n",
        "\n",
        "    # instancia Pessoa\n",
        "    pessoa1 = Pessoa(nome='Armando Soares Sousa', data_nascimento=valida_data('19/02/1979'), \n",
        "    sexo='M', cpf='798461493-87', telefone=valida_telefone('(86)994693558'), email=valida_email('armando@ufpi.edu.br'))\n",
        "\n",
        "    # atribui enderedo1 a pessoa1\n",
        "    pessoa1.set_endereco(endereco1)\n",
        "\n",
        "    print(f'Nome: {pessoa1.nome}, Data de Nascimento: {pessoa1.data_nascimento}, Sexo: {pessoa1.sexo}, cpf: {pessoa1.cpf}, idade: { pessoa1.get_idade_atual() }, endereco: {pessoa1.endereco}')\n",
        "except Exception as e:\n",
        "    print(f'Erro: {e}')"
      ],
      "execution_count": null,
      "outputs": [
        {
          "output_type": "stream",
          "name": "stdout",
          "text": [
            "Nome: Armando Soares Sousa, Data de Nascimento: 19/02/1979, Sexo: M, cpf: 798461493-87, idade: 42, endereco: Rua: Desembargador Pires de Castro - n.o: 2175 - Cpl: None - CEP: 64000-0000 - cidade: Teresina - estado: PI \n"
          ]
        }
      ]
    },
    {
      "cell_type": "code",
      "metadata": {
        "id": "q7EswTW1Jd01",
        "colab": {
          "base_uri": "https://localhost:8080/"
        },
        "outputId": "d181a59d-cdbf-4b14-aaf4-b0eb6ee4b342"
      },
      "source": [
        "print(pessoa1)"
      ],
      "execution_count": null,
      "outputs": [
        {
          "output_type": "stream",
          "name": "stdout",
          "text": [
            "Nome: Armando Soares Sousa, CPF: 798461493-87, Sexo: M, Telefone: (86)994693558, Endereço: Rua: Desembargador Pires de Castro - n.o: 2175 - Cpl: None - CEP: 64000-0000 - cidade: Teresina - estado: PI \n"
          ]
        }
      ]
    },
    {
      "cell_type": "markdown",
      "metadata": {
        "id": "mbocZkAFJd01"
      },
      "source": [
        "# Herença"
      ]
    },
    {
      "cell_type": "markdown",
      "metadata": {
        "id": "DXbCV0ErJd01"
      },
      "source": [
        "### Criando a classe Cliente herdando da classe Pessoa"
      ]
    },
    {
      "cell_type": "code",
      "metadata": {
        "id": "j621x9TAJd02"
      },
      "source": [
        "class Cliente(Pessoa):\n",
        "    pass"
      ],
      "execution_count": null,
      "outputs": []
    },
    {
      "cell_type": "markdown",
      "metadata": {
        "id": "J0SyUxJRJd02"
      },
      "source": [
        "### Instanciando um cliente"
      ]
    },
    {
      "cell_type": "code",
      "metadata": {
        "id": "bCpqpqm9Jd02",
        "colab": {
          "base_uri": "https://localhost:8080/"
        },
        "outputId": "d7bc41e9-cc90-4139-f47c-a38376c7d2ff"
      },
      "source": [
        "# instancia Endereco\n",
        "endereco1 = Endereco(rua='Desembargador Pires de Castro', numero='2175', cep=valida_cep('64000-0000'), cidade='Teresina', estado='PI')\n",
        "\n",
        "cliente1 = Cliente(nome='Teste1', data_nascimento='11/11/2021', sexo='M', email='teste@teste.com', telefone='(86)994693558', cpf='1234567-87')\n",
        "\n",
        "cliente1.set_endereco(endereco1)\n",
        "\n",
        "print(cliente1.nome)"
      ],
      "execution_count": null,
      "outputs": [
        {
          "output_type": "stream",
          "name": "stdout",
          "text": [
            "Teste1\n"
          ]
        }
      ]
    },
    {
      "cell_type": "markdown",
      "metadata": {
        "id": "NM-XgZf3Jd03"
      },
      "source": [
        "### Criando a classe Usuario"
      ]
    },
    {
      "cell_type": "code",
      "metadata": {
        "id": "Jyky7cxoJd03"
      },
      "source": [
        "class Usuario:\n",
        "    def __init__(self, user, password, acesso=None):\n",
        "        self.user = user\n",
        "        self.password = password\n",
        "        self.acesso = acesso"
      ],
      "execution_count": null,
      "outputs": []
    },
    {
      "cell_type": "markdown",
      "metadata": {
        "id": "1TygpXRPJd03"
      },
      "source": [
        "### Criando a classe Cliente herdando da classe Pessoa e fazendo composição com a classe Usuario"
      ]
    },
    {
      "cell_type": "code",
      "metadata": {
        "id": "Soft7jq4Jd03"
      },
      "source": [
        "class Cliente(Pessoa):\n",
        "    usuario = None\n",
        "\n",
        "    def set_usuario(self, usuario):\n",
        "        self.usuario = usuario"
      ],
      "execution_count": null,
      "outputs": []
    },
    {
      "cell_type": "code",
      "metadata": {
        "id": "MwOwp6WHJd03",
        "colab": {
          "base_uri": "https://localhost:8080/"
        },
        "outputId": "1915a74a-0ac4-477e-bd76-d852f020c074"
      },
      "source": [
        "# instancia Endereco\n",
        "endereco1 = Endereco(rua='Desembargador Pires de Castro', numero='2175', cep=valida_cep('64000-0000'), cidade='Teresina', estado='PI')\n",
        "\n",
        "cliente1 = Cliente(nome='Teste1', data_nascimento='11/11/2021', sexo='M', email='teste@teste.com', telefone='(86)994693558', cpf='1234567-87')\n",
        "\n",
        "cliente1.set_endereco(endereco1)\n",
        "\n",
        "print(cliente1.nome)"
      ],
      "execution_count": null,
      "outputs": [
        {
          "output_type": "stream",
          "name": "stdout",
          "text": [
            "Teste1\n"
          ]
        }
      ]
    },
    {
      "cell_type": "markdown",
      "metadata": {
        "id": "bmrVhkRSJd04"
      },
      "source": [
        "### Instanciando um usuário"
      ]
    },
    {
      "cell_type": "code",
      "metadata": {
        "id": "v8j-xfyOJd04"
      },
      "source": [
        "usuario1 = Usuario('armando', 'armando', 1)"
      ],
      "execution_count": null,
      "outputs": []
    },
    {
      "cell_type": "markdown",
      "metadata": {
        "id": "5B1NUmG_Jd04"
      },
      "source": [
        "### Atualizando os dados de usuário do cliente1"
      ]
    },
    {
      "cell_type": "code",
      "metadata": {
        "id": "a6GbG4EjJd04"
      },
      "source": [
        "cliente1.set_usuario(usuario1)"
      ],
      "execution_count": null,
      "outputs": []
    },
    {
      "cell_type": "code",
      "metadata": {
        "id": "lZFZ2nnNJd04",
        "colab": {
          "base_uri": "https://localhost:8080/"
        },
        "outputId": "aae3c504-c260-478e-80af-4dc5de749175"
      },
      "source": [
        "print(f'Usuário do cliente1: {cliente1.usuario.user}')"
      ],
      "execution_count": null,
      "outputs": [
        {
          "output_type": "stream",
          "name": "stdout",
          "text": [
            "Usuário do cliente1: armando\n"
          ]
        }
      ]
    }
  ]
}